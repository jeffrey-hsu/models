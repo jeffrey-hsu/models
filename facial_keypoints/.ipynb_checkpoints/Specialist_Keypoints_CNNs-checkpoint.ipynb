{
 "cells": [
  {
   "cell_type": "markdown",
   "metadata": {},
   "source": [
    "# Specialist Convolutional Neural Network Models\n",
    "\n",
    "In this notebook we build several CNN models each trained to predict different facial keypoint sets. The rationale for such approach is that each keypoint contains different number of label observations. Some images show face on the side, thus not all keypoints are revealed. In order to fully utilize labels, other than just examples where full set of keypoints are marked, keypoints close to each other and which number of observations are relatively close are trained with a CNN. This gives us several CNN models. The final prediction is done via all CNNs."
   ]
  },
  {
   "cell_type": "code",
   "execution_count": 2,
   "metadata": {},
   "outputs": [
    {
     "name": "stdout",
     "output_type": "stream",
     "text": [
      "gpu\n",
      "float64\n",
      "3.6.1 |Anaconda 4.4.0 (64-bit)| (default, May 11 2017, 13:09:58) \n",
      "[GCC 4.4.7 20120313 (Red Hat 4.4.7-1)]\n"
     ]
    }
   ],
   "source": [
    "import os\n",
    "import re\n",
    "import sys\n",
    "import numpy as np\n",
    "import matplotlib.pyplot as plt\n",
    "from pandas.io.parsers import read_csv\n",
    "from sklearn.utils import shuffle\n",
    "from six.moves import cPickle\n",
    "\n",
    "from sklearn.metrics import classification_report\n",
    "import time\n",
    "\n",
    "import theano\n",
    "from theano import tensor as T\n",
    "from theano.sandbox.rng_mrg import MRG_RandomStreams as RandomStreams\n",
    "from theano.tensor.nnet.conv import conv2d\n",
    "from theano.tensor.signal.pool import pool_2d\n",
    "\n",
    "import conv_net_helper as helper\n",
    "\n",
    "print(theano.config.device)\n",
    "print(theano.config.floatX)\n",
    "print(sys.version)"
   ]
  },
  {
   "cell_type": "markdown",
   "metadata": {},
   "source": [
    "#### Load Training Data and Create Training and Dev sets"
   ]
  },
  {
   "cell_type": "code",
   "execution_count": 3,
   "metadata": {},
   "outputs": [
    {
     "name": "stdout",
     "output_type": "stream",
     "text": [
      "Number of training examples: 6042\n",
      "Number of dev examples: 1007\n"
     ]
    }
   ],
   "source": [
    "TRAIN = \"../../../data/facial_keypoints/training.csv\"\n",
    "TEST = \"../../../data/facial_keypoints/test.csv\"\n",
    "\n",
    "rawdata = helper.load_data(TRAIN)\n",
    "X, Y = helper.loadXY(rawdata)\n",
    "num_dev = int(len(X)/7)\n",
    "train_data, train_labels = X[num_dev:], Y[num_dev:]\n",
    "dev_data, dev_labels = X[:num_dev], Y[:num_dev]\n",
    "\n",
    "print(\"Number of training examples:\", len(train_data))\n",
    "print(\"Number of dev examples:\", len(dev_data))"
   ]
  },
  {
   "cell_type": "markdown",
   "metadata": {},
   "source": [
    "#### Column names of keypoint sets"
   ]
  },
  {
   "cell_type": "code",
   "execution_count": 4,
   "metadata": {},
   "outputs": [
    {
     "data": {
      "text/plain": [
       "dict_keys(['eye_ct', 'eye_cr', 'eyebrow', 'nose', 'mouth_cr', 'mouth_ct_top', 'mouth_ct_bottom'])"
      ]
     },
     "execution_count": 4,
     "metadata": {},
     "output_type": "execute_result"
    }
   ],
   "source": [
    "full_keypoints = (rawdata.columns.values).tolist()[:-1]\n",
    "cols_dict = {\n",
    "    \"eye_ct\" : [\"left_eye_center_x\", \"left_eye_center_y\",\n",
    "                \"right_eye_center_x\", \"right_eye_center_y\"],\n",
    "    \"eye_cr\" : [\"left_eye_inner_corner_x\", \"left_eye_inner_corner_y\",\n",
    "                \"left_eye_outer_corner_x\", \"left_eye_outer_corner_y\",\n",
    "                \"right_eye_inner_corner_x\", \"right_eye_inner_corner_y\",\n",
    "                \"right_eye_outer_corner_x\", \"right_eye_outer_corner_y\"],\n",
    "    \"eyebrow\" : [\"left_eyebrow_inner_end_x\", \"left_eyebrow_inner_end_y\",\n",
    "                 \"left_eyebrow_outer_end_x\", \"left_eyebrow_outer_end_y\",\n",
    "                 \"right_eyebrow_inner_end_x\", \"right_eyebrow_inner_end_y\",\n",
    "                 \"right_eyebrow_outer_end_x\", \"right_eyebrow_outer_end_y\"],\n",
    "    \"nose\" : [\"nose_tip_x\", \"nose_tip_y\"],\n",
    "    \"mouth_cr\" : [\"mouth_left_corner_x\", \"mouth_left_corner_y\",\n",
    "                           \"mouth_right_corner_x\", \"mouth_right_corner_y\"],\n",
    "    \"mouth_ct_top\" : [\"mouth_center_top_lip_x\", \"mouth_center_top_lip_y\"],\n",
    "    \"mouth_ct_bottom\" : [\"mouth_center_bottom_lip_x\", \"mouth_center_bottom_lip_y\"]\n",
    "}\n",
    "cols_dict.keys()"
   ]
  },
  {
   "cell_type": "markdown",
   "metadata": {},
   "source": [
    "#### Subset Traing Data - for keypoint sets"
   ]
  },
  {
   "cell_type": "code",
   "execution_count": 5,
   "metadata": {},
   "outputs": [],
   "source": [
    "train_data_sep = [0 for i in cols_dict.keys()]\n",
    "train_labels_sep = [0 for i in cols_dict.keys()]\n",
    "for i, key in enumerate(cols_dict.keys()):\n",
    "    train_data_sep[i], train_labels_sep[i] = helper.subset_data(train_data,\n",
    "                                                                train_labels,\n",
    "                                                                full_keypoints,\n",
    "                                                                cols_dict[key])"
   ]
  },
  {
   "cell_type": "markdown",
   "metadata": {},
   "source": [
    "#### Subset Dev Data - for keypoint sets"
   ]
  },
  {
   "cell_type": "code",
   "execution_count": 6,
   "metadata": {},
   "outputs": [],
   "source": [
    "dev_data_sep = [0 for i in cols_dict.keys()]\n",
    "dev_labels_sep = [0 for i in cols_dict.keys()]\n",
    "for i, key in enumerate(cols_dict.keys()):\n",
    "    dev_data_sep[i], dev_labels_sep[i] = helper.subset_data(dev_data,\n",
    "                                                                dev_labels,\n",
    "                                                                full_keypoints,\n",
    "                                                                cols_dict[key])"
   ]
  },
  {
   "cell_type": "markdown",
   "metadata": {},
   "source": [
    "## Eye  Center Prediction\n",
    "\n",
    "- eye_ct_data\n",
    "- eye_ct_labels"
   ]
  },
  {
   "cell_type": "code",
   "execution_count": 7,
   "metadata": {
    "collapsed": true
   },
   "outputs": [],
   "source": [
    "numClasses = train_labels_sep[0][1].size\n",
    "\n",
    "## Create cnn model for detecting eye center\n",
    "eye_ct_cnn = helper.convNetBuilder(numClasses, patchSize = [5,5], \n",
    "                                   featureMapLayers = [32,64,128,256,512],\n",
    "                                   numHiddenNodes = 600, numNNLayer = 5,\n",
    "                                   imageWidth = 96, poolingSize = 2,\n",
    "                                   train_dropout_rate = [0.2,0.5])\n",
    "\n",
    "train_data_sep[0] = helper.load_2d_images(train_data_sep[0], 96)\n",
    "dev_data_sep[0] = helper.load_2d_images(dev_data_sep[0], 96)"
   ]
  },
  {
   "cell_type": "code",
   "execution_count": null,
   "metadata": {
    "collapsed": true
   },
   "outputs": [],
   "source": [
    "numClasses"
   ]
  },
  {
   "cell_type": "code",
   "execution_count": 8,
   "metadata": {},
   "outputs": [
    {
     "name": "stdout",
     "output_type": "stream",
     "text": [
      "(6028, 1, 96, 96)\n",
      "(1005, 1, 96, 96)\n"
     ]
    }
   ],
   "source": [
    "## Check if the reshape works\n",
    "print(train_data_sep[0].shape)\n",
    "print(dev_data_sep[0].shape)"
   ]
  },
  {
   "cell_type": "code",
   "execution_count": 8,
   "metadata": {},
   "outputs": [
    {
     "name": "stdout",
     "output_type": "stream",
     "text": [
      "\n",
      "Epoch: 1 / 3\n",
      "training time: 511.979686499 s, ----- loss: 0.187469573096 , RMSE: 20.7829231922\n",
      "validation loss: 0.194138256098 , val RMSE: 21.1493390452\n",
      "\n",
      "Epoch: 2 / 3\n",
      "training time: 514.298957825 s, ----- loss: 0.187469525536 , RMSE: 20.7829205559\n",
      "validation loss: 0.194138255486 , val RMSE: 21.1493390119\n",
      "\n",
      "Epoch: 3 / 3\n",
      "training time: 513.109895229 s, ----- loss: 0.187469515107 , RMSE: 20.7829199779\n",
      "validation loss: 0.194138254874 , val RMSE: 21.1493389786\n"
     ]
    }
   ],
   "source": [
    "eye_ct_train_result, eye_ct_val_result = eye_ct_cnn.SGD(train_data_sep[0],\n",
    "                                                        train_labels_sep[0],\n",
    "                                                        update_rule=\"backprop\",\n",
    "                                                        epochs = 3,\n",
    "                                                        miniBatchSize = 100,\n",
    "                                                        learning_rate = 0.01,\n",
    "                                                        validation = [dev_data_sep[0],\n",
    "                                                                     dev_labels_sep[0]])"
   ]
  },
  {
   "cell_type": "code",
   "execution_count": 69,
   "metadata": {},
   "outputs": [],
   "source": [
    "for layer in range(len(eye_ct_cnn.params)):\n",
    "    filename = \"eye_ct_layer\" + str(layer+1)\n",
    "    helper.save_layer_params(eye_ct_cnn.params[layer], filename)"
   ]
  },
  {
   "cell_type": "code",
   "execution_count": 10,
   "metadata": {},
   "outputs": [
    {
     "data": {
      "text/plain": [
       "array([[-0.00562944,  0.00351338,  0.00451219, ..., -0.01202873,\n",
       "         0.00384001,  0.01784347],\n",
       "       [ 0.00448881,  0.01135894,  0.00970947, ...,  0.00451705,\n",
       "        -0.00257718,  0.00960052],\n",
       "       [ 0.00089288,  0.01375832, -0.00828643, ..., -0.00351875,\n",
       "        -0.02569854,  0.00482828],\n",
       "       ..., \n",
       "       [-0.00151452,  0.00098542,  0.01707603, ..., -0.00172229,\n",
       "        -0.00028029, -0.00657524],\n",
       "       [-0.00033551,  0.0088803 , -0.00600585, ...,  0.00037901,\n",
       "         0.00261588,  0.02065537],\n",
       "       [ 0.00345786,  0.00523346,  0.00523521, ..., -0.00113153,\n",
       "        -0.00822592, -0.00254993]])"
      ]
     },
     "execution_count": 10,
     "metadata": {},
     "output_type": "execute_result"
    }
   ],
   "source": [
    "helper.load_saved_params(\"eye_ct_layer9_weights\").get_value()"
   ]
  },
  {
   "cell_type": "code",
   "execution_count": 72,
   "metadata": {},
   "outputs": [
    {
     "data": {
      "image/png": "[encoded data removed]",
      "text/plain": [
       "<matplotlib.figure.Figure at 0x7fa5c967cef0>"
      ]
     },
     "metadata": {},
     "output_type": "display_data"
    }
   ],
   "source": [
    "def plot_performance(train_result, validation_result):\n",
    "    plt.plot(train_result[:,1], linewidth=3, label=\"train\")\n",
    "    plt.plot(validation_result[:,0], linewidth=3, label=\"validation\")\n",
    "    plt.grid()\n",
    "    plt.legend()\n",
    "    plt.xlabel(\"Epoch\")\n",
    "    plt.ylabel(\"Loss\")\n",
    "    #plt.ylim(1e-4, 1e-2)\n",
    "    #plt.yscale('log')\n",
    "    plt.show()\n",
    "\n",
    "plot_performance(eye_ct_train_result, eye_ct_val_result)"
   ]
  },
  {
   "cell_type": "markdown",
   "metadata": {},
   "source": [
    "Eye center -- Try again"
   ]
  },
  {
   "cell_type": "code",
   "execution_count": 8,
   "metadata": {},
   "outputs": [
    {
     "name": "stdout",
     "output_type": "stream",
     "text": [
      "\n",
      "Epoch: 1 / 25\n",
      "training time: 492.242276907 s, ----- loss: nan , RMSE: nan\n",
      "validation loss: nan , val RMSE: nan\n"
     ]
    },
    {
     "ename": "KeyboardInterrupt",
     "evalue": "",
     "output_type": "error",
     "traceback": [
      "\u001b[0;31m---------------------------------------------------------------------------\u001b[0m",
      "\u001b[0;31mKeyboardInterrupt\u001b[0m                         Traceback (most recent call last)",
      "\u001b[0;32m<ipython-input-8-1422b6153d66>\u001b[0m in \u001b[0;36m<module>\u001b[0;34m()\u001b[0m\n\u001b[1;32m      6\u001b[0m                                                         \u001b[0mlearning_rate\u001b[0m \u001b[0;34m=\u001b[0m \u001b[0;36m0.03\u001b[0m\u001b[0;34m,\u001b[0m\u001b[0;34m\u001b[0m\u001b[0m\n\u001b[1;32m      7\u001b[0m                                                         validation = [dev_data_sep[0],\n\u001b[0;32m----> 8\u001b[0;31m                                                                       dev_labels_sep[0]])\n\u001b[0m",
      "\u001b[0;32m/home/ec2-user/repo/models/facial_keypoints/conv_net_helper.py\u001b[0m in \u001b[0;36mSGD\u001b[0;34m(self, X, Y, update_rule, epochs, miniBatchSize, learning_rate, validation)\u001b[0m\n\u001b[1;32m    249\u001b[0m             \u001b[0mepochStartTime\u001b[0m \u001b[0;34m=\u001b[0m \u001b[0mtime\u001b[0m\u001b[0;34m.\u001b[0m\u001b[0mtime\u001b[0m\u001b[0;34m(\u001b[0m\u001b[0;34m)\u001b[0m\u001b[0;34m\u001b[0m\u001b[0m\n\u001b[1;32m    250\u001b[0m             \u001b[0;32mfor\u001b[0m \u001b[0mbatchStart\u001b[0m\u001b[0;34m,\u001b[0m \u001b[0mbatchEnd\u001b[0m \u001b[0;32min\u001b[0m \u001b[0mzip\u001b[0m\u001b[0;34m(\u001b[0m\u001b[0mrange\u001b[0m\u001b[0;34m(\u001b[0m\u001b[0;36m0\u001b[0m\u001b[0;34m,\u001b[0m \u001b[0mlen\u001b[0m\u001b[0;34m(\u001b[0m\u001b[0mX\u001b[0m\u001b[0;34m)\u001b[0m\u001b[0;34m,\u001b[0m \u001b[0mN\u001b[0m\u001b[0;34m)\u001b[0m\u001b[0;34m,\u001b[0m \u001b[0mrange\u001b[0m\u001b[0;34m(\u001b[0m\u001b[0mN\u001b[0m\u001b[0;34m,\u001b[0m \u001b[0mlen\u001b[0m\u001b[0;34m(\u001b[0m\u001b[0mX\u001b[0m\u001b[0;34m)\u001b[0m\u001b[0;34m,\u001b[0m \u001b[0mN\u001b[0m\u001b[0;34m)\u001b[0m\u001b[0;34m)\u001b[0m\u001b[0;34m:\u001b[0m\u001b[0;34m\u001b[0m\u001b[0m\n\u001b[0;32m--> 251\u001b[0;31m                 \u001b[0mcost\u001b[0m \u001b[0;34m=\u001b[0m \u001b[0mtrain\u001b[0m\u001b[0;34m(\u001b[0m\u001b[0mX\u001b[0m\u001b[0;34m[\u001b[0m\u001b[0mbatchStart\u001b[0m\u001b[0;34m:\u001b[0m\u001b[0mbatchEnd\u001b[0m\u001b[0;34m]\u001b[0m\u001b[0;34m,\u001b[0m \u001b[0mY\u001b[0m\u001b[0;34m[\u001b[0m\u001b[0mbatchStart\u001b[0m\u001b[0;34m:\u001b[0m\u001b[0mbatchEnd\u001b[0m\u001b[0;34m]\u001b[0m\u001b[0;34m)\u001b[0m\u001b[0;34m\u001b[0m\u001b[0m\n\u001b[0m\u001b[1;32m    252\u001b[0m             \u001b[0mtrain_result\u001b[0m\u001b[0;34m[\u001b[0m\u001b[0mi\u001b[0m\u001b[0;34m,\u001b[0m\u001b[0;36m1\u001b[0m\u001b[0;34m]\u001b[0m \u001b[0;34m=\u001b[0m \u001b[0mcost\u001b[0m\u001b[0;34m\u001b[0m\u001b[0m\n\u001b[1;32m    253\u001b[0m             \u001b[0mtrain_result\u001b[0m\u001b[0;34m[\u001b[0m\u001b[0mi\u001b[0m\u001b[0;34m,\u001b[0m\u001b[0;36m2\u001b[0m\u001b[0;34m]\u001b[0m \u001b[0;34m=\u001b[0m \u001b[0mnp\u001b[0m\u001b[0;34m.\u001b[0m\u001b[0msqrt\u001b[0m\u001b[0;34m(\u001b[0m\u001b[0mcost\u001b[0m\u001b[0;34m)\u001b[0m\u001b[0;34m*\u001b[0m\u001b[0;36m48\u001b[0m\u001b[0;34m\u001b[0m\u001b[0m\n",
      "\u001b[0;32m/home/ec2-user/anaconda3/lib/python3.6/site-packages/theano/compile/function_module.py\u001b[0m in \u001b[0;36m__call__\u001b[0;34m(self, *args, **kwargs)\u001b[0m\n\u001b[1;32m    882\u001b[0m         \u001b[0;32mtry\u001b[0m\u001b[0;34m:\u001b[0m\u001b[0;34m\u001b[0m\u001b[0m\n\u001b[1;32m    883\u001b[0m             \u001b[0moutputs\u001b[0m \u001b[0;34m=\u001b[0m\u001b[0;31m\\\u001b[0m\u001b[0;34m\u001b[0m\u001b[0m\n\u001b[0;32m--> 884\u001b[0;31m                 \u001b[0mself\u001b[0m\u001b[0;34m.\u001b[0m\u001b[0mfn\u001b[0m\u001b[0;34m(\u001b[0m\u001b[0;34m)\u001b[0m \u001b[0;32mif\u001b[0m \u001b[0moutput_subset\u001b[0m \u001b[0;32mis\u001b[0m \u001b[0;32mNone\u001b[0m \u001b[0;32melse\u001b[0m\u001b[0;31m\\\u001b[0m\u001b[0;34m\u001b[0m\u001b[0m\n\u001b[0m\u001b[1;32m    885\u001b[0m                 \u001b[0mself\u001b[0m\u001b[0;34m.\u001b[0m\u001b[0mfn\u001b[0m\u001b[0;34m(\u001b[0m\u001b[0moutput_subset\u001b[0m\u001b[0;34m=\u001b[0m\u001b[0moutput_subset\u001b[0m\u001b[0;34m)\u001b[0m\u001b[0;34m\u001b[0m\u001b[0m\n\u001b[1;32m    886\u001b[0m         \u001b[0;32mexcept\u001b[0m \u001b[0mException\u001b[0m\u001b[0;34m:\u001b[0m\u001b[0;34m\u001b[0m\u001b[0m\n",
      "\u001b[0;31mKeyboardInterrupt\u001b[0m: "
     ]
    }
   ],
   "source": [
    "eye_ct_train_result, eye_ct_val_result = eye_ct_cnn.SGD(train_data_sep[0],\n",
    "                                                        train_labels_sep[0],\n",
    "                                                        update_rule=\"rmsprop\",\n",
    "                                                        epochs = 25,\n",
    "                                                        miniBatchSize = 100,\n",
    "                                                        learning_rate = 0.03,\n",
    "                                                        validation = [dev_data_sep[0],\n",
    "                                                                      dev_labels_sep[0]])"
   ]
  },
  {
   "cell_type": "markdown",
   "metadata": {},
   "source": [
    "----------------------------------------------------------------------"
   ]
  },
  {
   "cell_type": "code",
   "execution_count": 10,
   "metadata": {},
   "outputs": [
    {
     "name": "stdout",
     "output_type": "stream",
     "text": [
      "Epoch      Cost        RMSE         Epoch Training Time(secs)\n",
      "-----      ----        -----        -------------------------\n",
      "  1.0     0.194379041536     21.1624505126     495.303448677\n",
      "  2.0     0.194379190295     21.1624586105     495.125259876\n",
      "  3.0     0.194378866151     21.1624409654     495.635089636\n",
      "  4.0     0.194378344606     21.1624125745     496.724184036\n",
      "  5.0     0.194378430017     21.1624172239     494.231838226\n",
      "  6.0     0.194379347633     21.1624671753     496.972456932\n",
      "  7.0     0.194378651167     21.1624292625     495.601482391\n",
      "  8.0     0.194378989827     21.1624476978     498.575871706\n",
      "  9.0     0.194378450807     21.1624183556     498.194295883\n",
      "  10.0     0.194378764091     21.1624354096     504.651228428\n"
     ]
    }
   ],
   "source": [
    "print(\"Epoch      Cost        RMSE         Epoch Training Time(secs)\")\n",
    "print(\"-----      ----        -----        -------------------------\")\n",
    "for i in range(len(train_result)):\n",
    "    print(\" \", train_result[i,0], \"   \", train_result[i,1],\n",
    "         \"   \", train_result[i,2], \"   \", train_result[i,3])\n",
    "    "
   ]
  },
  {
   "cell_type": "markdown",
   "metadata": {},
   "source": [
    "## Eye  Corner Prediction\n",
    "\n",
    "- eye_cr_data\n",
    "- eye_cr_labels"
   ]
  },
  {
   "cell_type": "code",
   "execution_count": 12,
   "metadata": {
    "collapsed": true
   },
   "outputs": [],
   "source": [
    "numClasses = train_labels_sep[1][1].size\n",
    "\n",
    "## Create cnn model for detecting eye center\n",
    "eye_cr_cnn = helper.convNetBuilder(numClasses, patchSize = [5,5], \n",
    "                                   featureMapLayers = [32,64,128,256,512],\n",
    "                                   numHiddenNodes = 600, numNNLayer = 5,\n",
    "                                   imageWidth = 96, poolingSize = 2,\n",
    "                                   train_dropout_rate = [0.2,0.5])\n",
    "\n",
    "train_data_sep[1] = helper.load_2d_images(train_data_sep[1], 96)\n",
    "dev_data_sep[1] = helper.load_2d_images(dev_data_sep[1], 96)"
   ]
  },
  {
   "cell_type": "code",
   "execution_count": null,
   "metadata": {
    "collapsed": true
   },
   "outputs": [],
   "source": [
    "eye_cr_train_result, eye_cr_val_result = eye_cr_cnn.SGD(train_data_sep[1],\n",
    "                                                        train_labels_sep[1],\n",
    "                                                        update_rule=\"rmsprop\",\n",
    "                                                        epochs = 30,\n",
    "                                                        miniBatchSize = 100,\n",
    "                                                        learning_rate = 0.03,\n",
    "                                                        validation = [dev_data_sep[1],\n",
    "                                                                     dev_labels_sep[1]])"
   ]
  },
  {
   "cell_type": "markdown",
   "metadata": {},
   "source": [
    "## Eyebrow Prediction\n",
    "\n",
    "- eyebrow_data\n",
    "- eyebrow_labels"
   ]
  },
  {
   "cell_type": "code",
   "execution_count": null,
   "metadata": {
    "collapsed": true
   },
   "outputs": [],
   "source": [
    "numClasses = train_labels_sep[2][1].size\n",
    "\n",
    "## Create cnn model for detecting eye center\n",
    "eyebrow_cnn = helper.convNetBuilder(numClasses, patchSize = [5,5], \n",
    "                                   featureMapLayers = [32,64,128,256,512],\n",
    "                                   numHiddenNodes = 600, numNNLayer = 5,\n",
    "                                   imageWidth = 96, poolingSize = 2,\n",
    "                                   train_dropout_rate = [0.2,0.5])\n",
    "\n",
    "train_data_sep[2] = helper.load_2d_images(train_data_sep[2], 96)\n",
    "dev_data_sep[2] = helper.load_2d_images(dev_data_sep[2], 96)"
   ]
  },
  {
   "cell_type": "code",
   "execution_count": null,
   "metadata": {
    "collapsed": true
   },
   "outputs": [],
   "source": [
    "eyebrow_train_result, eyebrow_val_result = eyebrow_cnn.SGD(train_data_sep[2],\n",
    "                                                        train_labels_sep[2],\n",
    "                                                        update_rule=\"rmsprop\",\n",
    "                                                        epochs = 30,\n",
    "                                                        miniBatchSize = 100,\n",
    "                                                        learning_rate = 0.03,\n",
    "                                                        validation = [dev_data_sep[2],\n",
    "                                                                     dev_labels_sep[2]])"
   ]
  },
  {
   "cell_type": "markdown",
   "metadata": {},
   "source": [
    "## Nose Prediction\n",
    "\n",
    "- nose_data\n",
    "- nose_labels"
   ]
  },
  {
   "cell_type": "code",
   "execution_count": null,
   "metadata": {
    "collapsed": true
   },
   "outputs": [],
   "source": [
    "numClasses = train_labels_sep[3][1].size\n",
    "\n",
    "## Create cnn model for detecting eye center\n",
    "nose_cnn = helper.convNetBuilder(numClasses, patchSize = [5,5], \n",
    "                                   featureMapLayers = [32,64,128,256,512],\n",
    "                                   numHiddenNodes = 600, numNNLayer = 5,\n",
    "                                   imageWidth = 96, poolingSize = 2,\n",
    "                                   train_dropout_rate = [0.2,0.5])\n",
    "\n",
    "train_data_sep[3] = helper.load_2d_images(train_data_sep[3], 96)\n",
    "dev_data_sep[3] = helper.load_2d_images(dev_data_sep[3], 96)"
   ]
  },
  {
   "cell_type": "code",
   "execution_count": null,
   "metadata": {
    "collapsed": true
   },
   "outputs": [],
   "source": [
    "nose_train_result, nose_val_result = nose_cnn.SGD(train_data_sep[3],\n",
    "                                                  train_labels_sep[3],\n",
    "                                                  update_rule=\"rmsprop\",\n",
    "                                                  epochs = 30,\n",
    "                                                  miniBatchSize = 100,\n",
    "                                                  learning_rate = 0.03,\n",
    "                                                  validation = [dev_data_sep[3],\n",
    "                                                                dev_labels_sep[3]])"
   ]
  },
  {
   "cell_type": "markdown",
   "metadata": {},
   "source": [
    "## Mouth Corner Prediction\n",
    "\n",
    "- mouth_cr_data\n",
    "- mouth_cr_labels"
   ]
  },
  {
   "cell_type": "code",
   "execution_count": null,
   "metadata": {
    "collapsed": true
   },
   "outputs": [],
   "source": [
    "numClasses = train_labels_sep[4][1].size\n",
    "\n",
    "## Create cnn model for detecting eye center\n",
    "mouse_cr_cnn = helper.convNetBuilder(numClasses, patchSize = [5,5], \n",
    "                                     featureMapLayers = [32,64,128,256,512],\n",
    "                                     numHiddenNodes = 600, numNNLayer = 5,\n",
    "                                     imageWidth = 96, poolingSize = 2,\n",
    "                                     train_dropout_rate = [0.2,0.5])\n",
    "\n",
    "train_data_sep[4] = helper.load_2d_images(train_data_sep[4], 96)\n",
    "dev_data_sep[4] = helper.load_2d_images(dev_data_sep[4], 96)"
   ]
  },
  {
   "cell_type": "code",
   "execution_count": null,
   "metadata": {
    "collapsed": true
   },
   "outputs": [],
   "source": [
    "mouse_cr_train_result, mouse_cr_val_result = mouse_cr_cnn.SGD(train_data_sep[4],\n",
    "                                                          train_labels_sep[4],\n",
    "                                                          update_rule=\"rmsprop\",\n",
    "                                                          epochs = 30,\n",
    "                                                          miniBatchSize = 100,\n",
    "                                                          learning_rate = 0.03,\n",
    "                                                          validation = [dev_data_sep[4],\n",
    "                                                                        dev_labels_sep[4]])"
   ]
  },
  {
   "cell_type": "markdown",
   "metadata": {},
   "source": [
    "## Mouth Center Top Prediction\n",
    "\n",
    "- mouth_ct_top_data\n",
    "- mouth_ct_top_labels"
   ]
  },
  {
   "cell_type": "code",
   "execution_count": null,
   "metadata": {
    "collapsed": true
   },
   "outputs": [],
   "source": [
    "numClasses = train_labels_sep[5][1].size\n",
    "\n",
    "## Create cnn model for detecting eye center\n",
    "mouse_ct_top_cnn = helper.convNetBuilder(numClasses, patchSize = [5,5], \n",
    "                                     featureMapLayers = [32,64,128,256,512],\n",
    "                                     numHiddenNodes = 600, numNNLayer = 5,\n",
    "                                     imageWidth = 96, poolingSize = 2,\n",
    "                                     train_dropout_rate = [0.2,0.5])\n",
    "\n",
    "train_data_sep[5] = helper.load_2d_images(train_data_sep[5], 96)\n",
    "dev_data_sep[5] = helper.load_2d_images(dev_data_sep[5], 96)"
   ]
  },
  {
   "cell_type": "code",
   "execution_count": null,
   "metadata": {
    "collapsed": true
   },
   "outputs": [],
   "source": [
    "mouse_ct_top_train_result, mouse_ct_top_val_result = mouse_ct_top_cnn.SGD(train_data_sep[5],\n",
    "                                                          train_labels_sep[5],\n",
    "                                                          update_rule=\"rmsprop\",\n",
    "                                                          epochs = 30,\n",
    "                                                          miniBatchSize = 100,\n",
    "                                                          learning_rate = 0.03,\n",
    "                                                          validation = [dev_data_sep[5],\n",
    "                                                                        dev_labels_sep[5]])"
   ]
  },
  {
   "cell_type": "markdown",
   "metadata": {},
   "source": [
    "## Mouth Center Bottom Prediction\n",
    "\n",
    "- mouth_ct_bottom_data\n",
    "- mouth_ct_bottom_labels"
   ]
  },
  {
   "cell_type": "code",
   "execution_count": null,
   "metadata": {
    "collapsed": true
   },
   "outputs": [],
   "source": [
    "numClasses = train_labels_sep[6][1].size\n",
    "\n",
    "## Create cnn model for detecting eye center\n",
    "mouse_ct_bottom_cnn = helper.convNetBuilder(numClasses, patchSize = [5,5], \n",
    "                                     featureMapLayers = [32,64,128,256,512],\n",
    "                                     numHiddenNodes = 600, numNNLayer = 5,\n",
    "                                     imageWidth = 96, poolingSize = 2,\n",
    "                                     train_dropout_rate = [0.2,0.5])\n",
    "\n",
    "train_data_sep[6] = helper.load_2d_images(train_data_sep[6], 96)\n",
    "dev_data_sep[6] = helper.load_2d_images(dev_data_sep[6], 96)"
   ]
  },
  {
   "cell_type": "code",
   "execution_count": null,
   "metadata": {
    "collapsed": true
   },
   "outputs": [],
   "source": [
    "mouse_ct_bottom_train_result, mouse_ct_bottom_val_result = mouse_ct_bottom_cnn.SGD(train_data_sep[6],\n",
    "                                                          train_labels_sep[6],\n",
    "                                                          update_rule=\"rmsprop\",\n",
    "                                                          epochs = 30,\n",
    "                                                          miniBatchSize = 100,\n",
    "                                                          learning_rate = 0.03,\n",
    "                                                          validation = [dev_data_sep[6],\n",
    "                                                                        dev_labels_sep[6]])"
   ]
  }
 ],
 "metadata": {
  "kernelspec": {
   "display_name": "Python 3",
   "language": "python",
   "name": "python3"
  },
  "language_info": {
   "codemirror_mode": {
    "name": "ipython",
    "version": 3
   },
   "file_extension": ".py",
   "mimetype": "text/x-python",
   "name": "python",
   "nbconvert_exporter": "python",
   "pygments_lexer": "ipython3",
   "version": "3.6.1"
  }
 },
 "nbformat": 4,
 "nbformat_minor": 2
}
