{
 "cells": [
  {
   "cell_type": "code",
   "execution_count": 4,
   "metadata": {},
   "outputs": [
    {
     "name": "stderr",
     "output_type": "stream",
     "text": [
      "WARNING (theano.sandbox.cuda): The cuda backend is deprecated and will be removed in the next release (v0.10).  Please switch to the gpuarray backend. You can get more information about how to switch at this URL:\n",
      " https://github.com/Theano/Theano/wiki/Converting-to-the-new-gpu-back-end%28gpuarray%29\n",
      "\n",
      "/home/ec2-user/anaconda3/lib/python3.6/site-packages/theano/sandbox/cuda/__init__.py:556: UserWarning: Theano flag device=gpu* (old gpu back-end) only support floatX=float32. You have floatX=float64. Use the new gpu back-end with device=cuda* for that value of floatX.\n",
      "  warnings.warn(msg)\n",
      "Using gpu device 0: GRID K520 (CNMeM is disabled, cuDNN 5103)\n"
     ]
    },
    {
     "name": "stdout",
     "output_type": "stream",
     "text": [
      "gpu\n",
      "float64\n"
     ]
    }
   ],
   "source": [
    "# This tells matplotlib not to try opening a new window for each plot.\n",
    "%matplotlib inline\n",
    "\n",
    "# General libraries.\n",
    "import os\n",
    "import re\n",
    "import numpy as np\n",
    "import matplotlib.pyplot as plt\n",
    "from pandas.io.parsers import read_csv\n",
    "from sklearn.utils import shuffle\n",
    "\n",
    "from sklearn.metrics import classification_report\n",
    "from sklearn.neighbors import KNeighborsClassifier\n",
    "import time\n",
    "\n",
    "import theano \n",
    "from theano import tensor as T\n",
    "from theano.sandbox.rng_mrg import MRG_RandomStreams as RandomStreams\n",
    "from theano.tensor.signal.pool import pool_2d\n",
    "from theano.tensor.nnet import conv2d\n",
    "print(theano.config.device)\n",
    "print(theano.config.floatX)\n"
   ]
  },
  {
   "cell_type": "code",
   "execution_count": 5,
   "metadata": {
    "collapsed": true
   },
   "outputs": [],
   "source": [
    "TRAIN = '~/data/facial_keypoints/training.csv'\n",
    "TEST = '~/data/facial_keypoints/test.csv'\n",
    "\n",
    "def load_data(path):\n",
    "    df = read_csv(os.path.expanduser(path))  # load pandas dataframe\n",
    "    # The Image column has pixel values separated by space; convert\n",
    "    # the values to numpy arrays:\n",
    "    df['Image'] = df['Image'].apply(lambda im: np.fromstring(im, sep=' '))\n",
    "    df = df.dropna()  # drop all rows that have missing values in them\n",
    "    return df\n",
    "\n",
    "data = load_data(TRAIN)\n",
    "X = np.vstack(data['Image'].values) / 255.  # scale pixel values to [0, 1]\n",
    "y = data[data.columns[:-1]].values\n",
    "y = (y - 48) / 48  # scale target coordinates to [-1, 1]\n",
    "\n",
    "X = X.astype(theano.config.floatX)\n",
    "y = y.astype(theano.config.floatX)\n",
    "\n",
    "X, y = shuffle(X, y, random_state=42)  # shuffle train data\n",
    "num_train = len(X)\n",
    "train_data, train_labels = X[int(num_train/5):],y[int(num_train/5):]\n",
    "dev_data, dev_labels = X[:int(num_train/5)],y[:int(num_train/5)]\n",
    "\n",
    "train_data = train_data.astype(theano.config.floatX)\n",
    "train_labels = train_labels.astype(theano.config.floatX)\n",
    "dev_data = dev_data.astype(theano.config.floatX)\n",
    "dev_labels = dev_labels.astype(theano.config.floatX)\n",
    "\n"
   ]
  },
  {
   "cell_type": "code",
   "execution_count": 6,
   "metadata": {},
   "outputs": [
    {
     "data": {
      "text/plain": [
       "2140"
      ]
     },
     "execution_count": 6,
     "metadata": {},
     "output_type": "execute_result"
    }
   ],
   "source": [
    "train_data.shape\n",
    "num_train"
   ]
  },
  {
   "cell_type": "code",
   "execution_count": 8,
   "metadata": {},
   "outputs": [
    {
     "name": "stderr",
     "output_type": "stream",
     "text": [
      "/home/ec2-user/anaconda3/lib/python3.6/site-packages/ipykernel_launcher.py:34: UserWarning: pool_2d() will have the parameter ignore_border default value changed to True (currently False). To have consistent behavior with all Theano version, explicitly add the parameter ignore_border=True. On the GPU, using ignore_border=True is needed to use cuDNN. When using ignore_border=False and not using cuDNN, the only GPU combination supported is when `ws == stride and pad == (0, 0) and mode == 'max'`. Otherwise, the convolution will be executed on CPU.\n",
      "/home/ec2-user/anaconda3/lib/python3.6/site-packages/ipykernel_launcher.py:35: UserWarning: pool_2d() will have the parameter ignore_border default value changed to True (currently False). To have consistent behavior with all Theano version, explicitly add the parameter ignore_border=True. On the GPU, using ignore_border=True is needed to use cuDNN. When using ignore_border=False and not using cuDNN, the only GPU combination supported is when `ws == stride and pad == (0, 0) and mode == 'max'`. Otherwise, the convolution will be executed on CPU.\n",
      "/home/ec2-user/anaconda3/lib/python3.6/site-packages/ipykernel_launcher.py:36: UserWarning: pool_2d() will have the parameter ignore_border default value changed to True (currently False). To have consistent behavior with all Theano version, explicitly add the parameter ignore_border=True. On the GPU, using ignore_border=True is needed to use cuDNN. When using ignore_border=False and not using cuDNN, the only GPU combination supported is when `ws == stride and pad == (0, 0) and mode == 'max'`. Otherwise, the convolution will be executed on CPU.\n",
      "/home/ec2-user/anaconda3/lib/python3.6/site-packages/ipykernel_launcher.py:34: UserWarning: pool_2d() will have the parameter ignore_border default value changed to True (currently False). To have consistent behavior with all Theano version, explicitly add the parameter ignore_border=True. On the GPU, using ignore_border=True is needed to use cuDNN. When using ignore_border=False and not using cuDNN, the only GPU combination supported is when `ws == stride and pad == (0, 0) and mode == 'max'`. Otherwise, the convolution will be executed on CPU.\n"
     ]
    }
   ],
   "source": [
    "## (1) Parameters\n",
    "miniBatchSize = 10 #Batch size for the gradient descent\n",
    "N = miniBatchSize #Number of samples to compute the mean squared error\n",
    "numClasses = train_labels[1].size #Number of outputs we require\n",
    "numFeatures = train_data[1].size #Number of inputs\n",
    "numHiddenNodes = 300 #Number of nodes in the hidden layer\n",
    "\n",
    "\n",
    "\n",
    "#Randomly initialized weights for our network\n",
    "w_1 = theano.shared(np.asarray((np.random.randn(* (32, 1, 3, 3)) *.01)))\n",
    "w_2 = theano.shared(np.asarray((np.random.randn(* (64, 32, 3, 3)) *.01)))\n",
    "w_3 = theano.shared(np.asarray((np.random.randn(* (128, 64, 3, 3)) *.01)))\n",
    "w_4 = theano.shared(np.asarray((np.random.randn(*(12*12*128, numHiddenNodes))*.01)))\n",
    "w_5 = theano.shared(np.asarray((np.random.randn(*(numHiddenNodes, numClasses))*.01)))\n",
    "params = [w_1, w_2, w_3, w_4, w_5]\n",
    "\n",
    "## (2) Model\n",
    "X = T.tensor4()\n",
    "Y = T.matrix()\n",
    "\n",
    "train_data = train_data.reshape(-1,1,96,96)\n",
    "dev_data = dev_data.reshape(-1,1,96,96)\n",
    "\n",
    "srng = RandomStreams()\n",
    "def dropout(X, p=0.):\n",
    "    if p > 0:\n",
    "        X *= srng.binomial(X.shape, p=1 - p)\n",
    "        X /= 1 - p\n",
    "    return X\n",
    "\n",
    "\n",
    "def model(X, w_1, w_2, w_3, w_4, w_5, p_1, p_2):\n",
    "    l1 = dropout(pool_2d(T.maximum(conv2d(X, w_1, border_mode=(1,1)), 0.), (2, 2)), p_1)\n",
    "    l2 = dropout(pool_2d(T.maximum(conv2d(l1, w_2, border_mode=(1,1)), 0.), (2, 2)), p_1)\n",
    "    l3 = T.flatten(dropout(pool_2d(T.maximum(conv2d(l2, w_3, border_mode=(1,1)), 0.), (2, 2)), p_1), outdim=2)\n",
    "    return T.dot(dropout(T.nnet.sigmoid(T.dot(dropout(l3, p_1), w_4)), p_2), w_5)\n",
    "\n",
    "y_hat_train = model(X, w_1, w_2, w_3, w_4, w_5, 0.2, 0.3)\n",
    "y_hat_predict = model(X, w_1, w_2, w_3, w_4, w_5, 0., 0.)\n",
    "\n",
    "## (3) Cost...mean squared loss\n",
    "cost = T.sum(T.pow(y_hat_train-Y,2))/(2*N)\n",
    "\n",
    "## (4) Minimization.  Update rule changes to backpropagation.\n",
    "alpha = 0.1 #the learning rate\n",
    "learningRateSchedule = np.linspace(0.3, 0.0001, 100)\n",
    "\n",
    "#we use theanos built-in gradient function and use this in our backprop step\n",
    "def backprop(cost, w):\n",
    "    grads = T.grad(cost=cost, wrt=w)\n",
    "    updates = []\n",
    "    for w1, grad in zip(w, grads):\n",
    "        updates.append([w1, w1 - grad * alpha])\n",
    "    return updates\n",
    "\n",
    "update = backprop(cost, params)\n",
    "\n",
    "#The training function which outputs the cost\n",
    "train = theano.function(inputs=[X, Y], outputs=cost, updates=update, allow_input_downcast=True)\n",
    "y_pred = y_hat_predict\n",
    "\n",
    "#The prediction function\n",
    "predict = theano.function(inputs=[X], outputs=y_pred, allow_input_downcast=True)\n",
    "\n",
    "#We use this to determine the validation error which is the Mean squared error\n",
    "def get_validation_error(pred):\n",
    "    return np.sum((pred-dev_labels)**2)/(2*dev_data.shape[0])\n",
    "\n",
    "#We finally define the gradient descent function we use to train the model\n",
    "baseline_1_loss=[]\n",
    "baseline_1_validation=[]\n",
    "baseline_1_epochs = []\n",
    "def gradientDescentStochastic(epochs):\n",
    "    trainTime = 0.0\n",
    "    predictTime = 0.0\n",
    "    totalTime = 0.0\n",
    "    print(\"Epoch      Cost        RMSE         Execution Time(secs)\")\n",
    "    print(\"-----      ----        -----        --------------------\")\n",
    "    for i in range(epochs):\n",
    "        start_time = time.time()\n",
    "        \n",
    "        for start, end in zip(range(0, len(train_data), miniBatchSize), range(miniBatchSize, len(train_data), miniBatchSize)):\n",
    "            cost = train(train_data[start:end], train_labels[start:end])\n",
    "        trainTime = (time.time() - start_time)\n",
    "        baseline_1_loss.append(cost)\n",
    "        baseline_1_validation.append(get_validation_error(predict(dev_data)))\n",
    "        baseline_1_epochs.append(i+1)\n",
    "        print(\"{0:<3}       {1:<0.5f}      {2:<2.3f}            {3:<1.3f}\".format(i+1,cost*1.0,np.sqrt(cost) * 48,trainTime))\n",
    "        totalTime = totalTime+trainTime\n",
    "    print(\"Total Training time: {0} secs\".format(totalTime))    \n"
   ]
  },
  {
   "cell_type": "code",
   "execution_count": 9,
   "metadata": {},
   "outputs": [
    {
     "name": "stdout",
     "output_type": "stream",
     "text": [
      "Epoch      Cost        RMSE         Execution Time(secs)\n",
      "-----      ----        -----        --------------------\n",
      "1         0.70537      40.314            77.322\n",
      "2         0.28647      25.691            76.318\n",
      "3         0.26483      24.701            80.992\n",
      "4         0.68091      39.608            80.934\n",
      "5         0.45911      32.524            81.192\n",
      "6         0.68367      39.689            81.759\n",
      "7         0.63843      38.353            81.011\n",
      "8         0.31530      26.953            81.292\n",
      "9         0.28517      25.633            81.042\n",
      "10        0.35270      28.507            81.381\n",
      "11        0.76860      42.082            81.310\n",
      "12        0.80492      43.064            81.392\n",
      "13        0.91101      45.814            81.394\n",
      "14        0.35803      28.721            80.377\n",
      "15        0.60005      37.182            80.994\n",
      "16        0.53574      35.133            71.522\n",
      "17        0.63411      38.223            48.619\n",
      "18        0.33888      27.943            48.859\n",
      "19        0.66759      39.219            47.898\n",
      "20        0.73000      41.011            48.563\n",
      "21        0.35163      28.463            48.449\n",
      "22        0.29489      26.066            47.924\n",
      "23        0.42858      31.424            48.760\n",
      "24        0.50434      34.088            47.799\n",
      "25        1.20171      52.619            47.896\n",
      "26        0.34310      28.116            48.121\n",
      "27        0.32377      27.312            50.576\n",
      "28        0.66611      39.176            48.145\n",
      "29        0.34754      28.297            48.051\n",
      "30        0.57840      36.505            48.428\n",
      "31        0.56777      36.168            49.119\n",
      "32        0.26832      24.864            48.223\n",
      "33        0.47462      33.069            48.272\n",
      "34        0.37795      29.509            48.235\n",
      "35        0.30091      26.331            47.857\n",
      "36        0.22698      22.868            47.997\n",
      "37        0.21549      22.282            48.892\n",
      "38        0.29725      26.170            48.198\n",
      "39        0.20329      21.642            48.522\n",
      "40        0.52282      34.707            48.726\n",
      "41        0.58415      36.686            48.097\n",
      "42        0.21195      22.098            48.018\n",
      "43        0.36538      29.014            48.158\n",
      "44        0.50509      34.113            48.086\n",
      "45        0.23193      23.116            49.065\n",
      "46        0.25717      24.342            47.899\n",
      "47        0.34563      28.219            49.011\n",
      "48        0.30270      26.409            48.220\n",
      "49        0.41071      30.762            48.124\n",
      "50        0.58347      36.665            47.947\n",
      "Total Training time: 2924.9871118068695 secs\n"
     ]
    }
   ],
   "source": [
    "## 3 conv layers 2 nn layers\n",
    "## p1 = 0.2, p2 = 0.3\n",
    "gradientDescentStochastic(50)"
   ]
  },
  {
   "cell_type": "code",
   "execution_count": 27,
   "metadata": {},
   "outputs": [
    {
     "name": "stdout",
     "output_type": "stream",
     "text": [
      "Epoch      Cost        RMSE         Execution Time(secs)\n",
      "-----      ----        -----        --------------------\n",
      "1         0.15280      18.763            47.731\n",
      "2         0.13161      17.414            39.098\n",
      "3         0.13304      17.508            40.212\n",
      "4         0.15913      19.148            40.502\n",
      "5         0.13438      17.596            44.009\n",
      "6         0.16154      19.292            38.178\n",
      "7         0.10643      15.659            58.172\n",
      "8         0.10111      15.263            58.501\n",
      "9         0.09679      14.934            58.896\n",
      "10        0.10338      15.433            58.429\n",
      "11        0.10521      15.569            59.025\n",
      "12        0.09434      14.743            56.194\n",
      "13        0.12993      17.302            56.025\n",
      "14        0.11258      16.105            56.047\n",
      "15        0.11091      15.986            56.717\n",
      "16        0.13676      17.751            56.253\n",
      "17        0.13864      17.873            55.959\n",
      "18        0.10788      15.766            56.467\n",
      "19        0.13205      17.443            56.176\n",
      "20        0.10490      15.546            55.893\n"
     ]
    },
    {
     "ename": "KeyboardInterrupt",
     "evalue": "",
     "output_type": "error",
     "traceback": [
      "\u001b[0;31m---------------------------------------------------------------------------\u001b[0m",
      "\u001b[0;31mKeyboardInterrupt\u001b[0m                         Traceback (most recent call last)",
      "\u001b[0;32m<ipython-input-27-3aae95ac1c9a>\u001b[0m in \u001b[0;36m<module>\u001b[0;34m()\u001b[0m\n\u001b[0;32m----> 1\u001b[0;31m \u001b[0mgradientDescentStochastic\u001b[0m\u001b[0;34m(\u001b[0m\u001b[0;36m50\u001b[0m\u001b[0;34m)\u001b[0m\u001b[0;34m\u001b[0m\u001b[0m\n\u001b[0m",
      "\u001b[0;32m<ipython-input-26-a62bfd417a54>\u001b[0m in \u001b[0;36mgradientDescentStochastic\u001b[0;34m(epochs)\u001b[0m\n\u001b[1;32m     79\u001b[0m         \u001b[0mstart_time\u001b[0m \u001b[0;34m=\u001b[0m \u001b[0mtime\u001b[0m\u001b[0;34m.\u001b[0m\u001b[0mtime\u001b[0m\u001b[0;34m(\u001b[0m\u001b[0;34m)\u001b[0m\u001b[0;34m\u001b[0m\u001b[0m\n\u001b[1;32m     80\u001b[0m         \u001b[0;32mfor\u001b[0m \u001b[0mstart\u001b[0m\u001b[0;34m,\u001b[0m \u001b[0mend\u001b[0m \u001b[0;32min\u001b[0m \u001b[0mzip\u001b[0m\u001b[0;34m(\u001b[0m\u001b[0mrange\u001b[0m\u001b[0;34m(\u001b[0m\u001b[0;36m0\u001b[0m\u001b[0;34m,\u001b[0m \u001b[0mlen\u001b[0m\u001b[0;34m(\u001b[0m\u001b[0mtrain_data\u001b[0m\u001b[0;34m)\u001b[0m\u001b[0;34m,\u001b[0m \u001b[0mminiBatchSize\u001b[0m\u001b[0;34m)\u001b[0m\u001b[0;34m,\u001b[0m \u001b[0mrange\u001b[0m\u001b[0;34m(\u001b[0m\u001b[0mminiBatchSize\u001b[0m\u001b[0;34m,\u001b[0m \u001b[0mlen\u001b[0m\u001b[0;34m(\u001b[0m\u001b[0mtrain_data\u001b[0m\u001b[0;34m)\u001b[0m\u001b[0;34m,\u001b[0m \u001b[0mminiBatchSize\u001b[0m\u001b[0;34m)\u001b[0m\u001b[0;34m)\u001b[0m\u001b[0;34m:\u001b[0m\u001b[0;34m\u001b[0m\u001b[0m\n\u001b[0;32m---> 81\u001b[0;31m             \u001b[0mcost\u001b[0m \u001b[0;34m=\u001b[0m \u001b[0mtrain\u001b[0m\u001b[0;34m(\u001b[0m\u001b[0mtrain_data\u001b[0m\u001b[0;34m[\u001b[0m\u001b[0mstart\u001b[0m\u001b[0;34m:\u001b[0m\u001b[0mend\u001b[0m\u001b[0;34m]\u001b[0m\u001b[0;34m,\u001b[0m \u001b[0mtrain_labels\u001b[0m\u001b[0;34m[\u001b[0m\u001b[0mstart\u001b[0m\u001b[0;34m:\u001b[0m\u001b[0mend\u001b[0m\u001b[0;34m]\u001b[0m\u001b[0;34m)\u001b[0m\u001b[0;34m\u001b[0m\u001b[0m\n\u001b[0m\u001b[1;32m     82\u001b[0m         \u001b[0mtrainTime\u001b[0m \u001b[0;34m=\u001b[0m \u001b[0;34m(\u001b[0m\u001b[0mtime\u001b[0m\u001b[0;34m.\u001b[0m\u001b[0mtime\u001b[0m\u001b[0;34m(\u001b[0m\u001b[0;34m)\u001b[0m \u001b[0;34m-\u001b[0m \u001b[0mstart_time\u001b[0m\u001b[0;34m)\u001b[0m\u001b[0;34m\u001b[0m\u001b[0m\n\u001b[1;32m     83\u001b[0m         \u001b[0mbaseline_1_loss\u001b[0m\u001b[0;34m.\u001b[0m\u001b[0mappend\u001b[0m\u001b[0;34m(\u001b[0m\u001b[0mcost\u001b[0m\u001b[0;34m)\u001b[0m\u001b[0;34m\u001b[0m\u001b[0m\n",
      "\u001b[0;32m/home/ec2-user/anaconda3/lib/python3.6/site-packages/theano/compile/function_module.py\u001b[0m in \u001b[0;36m__call__\u001b[0;34m(self, *args, **kwargs)\u001b[0m\n\u001b[1;32m    882\u001b[0m         \u001b[0;32mtry\u001b[0m\u001b[0;34m:\u001b[0m\u001b[0;34m\u001b[0m\u001b[0m\n\u001b[1;32m    883\u001b[0m             \u001b[0moutputs\u001b[0m \u001b[0;34m=\u001b[0m\u001b[0;31m\\\u001b[0m\u001b[0;34m\u001b[0m\u001b[0m\n\u001b[0;32m--> 884\u001b[0;31m                 \u001b[0mself\u001b[0m\u001b[0;34m.\u001b[0m\u001b[0mfn\u001b[0m\u001b[0;34m(\u001b[0m\u001b[0;34m)\u001b[0m \u001b[0;32mif\u001b[0m \u001b[0moutput_subset\u001b[0m \u001b[0;32mis\u001b[0m \u001b[0;32mNone\u001b[0m \u001b[0;32melse\u001b[0m\u001b[0;31m\\\u001b[0m\u001b[0;34m\u001b[0m\u001b[0m\n\u001b[0m\u001b[1;32m    885\u001b[0m                 \u001b[0mself\u001b[0m\u001b[0;34m.\u001b[0m\u001b[0mfn\u001b[0m\u001b[0;34m(\u001b[0m\u001b[0moutput_subset\u001b[0m\u001b[0;34m=\u001b[0m\u001b[0moutput_subset\u001b[0m\u001b[0;34m)\u001b[0m\u001b[0;34m\u001b[0m\u001b[0m\n\u001b[1;32m    886\u001b[0m         \u001b[0;32mexcept\u001b[0m \u001b[0mException\u001b[0m\u001b[0;34m:\u001b[0m\u001b[0;34m\u001b[0m\u001b[0m\n",
      "\u001b[0;31mKeyboardInterrupt\u001b[0m: "
     ]
    }
   ],
   "source": [
    "## p1 = 0.2, p2 = 0.5\n",
    "gradientDescentStochastic(50)"
   ]
  },
  {
   "cell_type": "code",
   "execution_count": 31,
   "metadata": {},
   "outputs": [
    {
     "name": "stdout",
     "output_type": "stream",
     "text": [
      "Epoch      Cost        RMSE         Execution Time(secs)\n",
      "-----      ----        -----        --------------------\n",
      "1         0.14832      18.486            46.649\n",
      "2         0.14213      18.096            46.646\n",
      "3         0.11219      16.077            46.361\n",
      "4         0.09574      14.852            46.952\n",
      "5         0.09067      14.453            46.644\n",
      "6         0.08437      13.943            46.197\n",
      "7         0.08037      13.608            46.225\n",
      "8         0.07828      13.429            46.302\n",
      "9         0.07618      13.249            46.120\n",
      "10        0.07415      13.070            46.344\n",
      "11        0.07202      12.881            46.405\n",
      "12        0.06989      12.690            46.676\n",
      "13        0.06761      12.481            46.437\n",
      "14        0.06497      12.235            46.255\n",
      "15        0.06222      11.974            46.697\n",
      "16        0.05940      11.699            46.390\n",
      "17        0.05697      11.457            44.255\n",
      "18        0.05479      11.236            44.377\n",
      "19        0.05199      10.944            44.162\n",
      "20        0.04966      10.697            44.881\n",
      "21        0.04757      10.469            44.520\n",
      "22        0.04570      10.262            44.178\n",
      "23        0.04407      10.077            44.866\n",
      "24        0.04265      9.913            44.659\n",
      "25        0.04143      9.771            44.402\n",
      "26        0.04039      9.647            44.505\n",
      "27        0.03951      9.541            44.363\n",
      "28        0.03878      9.453            45.140\n",
      "29        0.03815      9.375            44.656\n",
      "30        0.03748      9.293            44.506\n",
      "31        0.03677      9.204            44.295\n",
      "32        0.03597      9.103            44.486\n",
      "33        0.03504      8.986            44.440\n",
      "34        0.03400      8.851            45.445\n",
      "35        0.03300      8.720            44.366\n",
      "36        0.03200      8.587            45.650\n",
      "37        0.03116      8.473            45.917\n",
      "38        0.03048      8.380            45.930\n",
      "39        0.02988      8.298            45.943\n",
      "40        0.02928      8.213            46.108\n",
      "41        0.02870      8.132            45.468\n",
      "42        0.02814      8.052            45.816\n",
      "43        0.02759      7.973            45.495\n",
      "44        0.02706      7.896            45.585\n",
      "45        0.02654      7.820            45.513\n",
      "46        0.02604      7.745            45.876\n",
      "47        0.02563      7.684            45.569\n",
      "48        0.02527      7.631            45.827\n",
      "49        0.02493      7.579            45.999\n",
      "50        0.02459      7.527            45.644\n",
      "Total Training time: 2276.1448633670807 secs\n"
     ]
    }
   ],
   "source": [
    "## p1, p2 = 0\n",
    "gradientDescentStochastic(50)"
   ]
  },
  {
   "cell_type": "code",
   "execution_count": 32,
   "metadata": {},
   "outputs": [
    {
     "data": {
      "image/png": "[encoded data removed]",
      "text/plain": [
       "<matplotlib.figure.Figure at 0x7f18f01f5f60>"
      ]
     },
     "metadata": {},
     "output_type": "display_data"
    }
   ],
   "source": [
    "## p1, p2 = 0\n",
    "plt.plot(baseline_1_epochs,baseline_1_loss, linewidth=3, label=\"training Loss\")\n",
    "plt.plot(baseline_1_epochs,baseline_1_validation, linewidth=3, label=\"validation Loss\")\n",
    "plt.legend()\n",
    "plt.grid()\n",
    "plt.xlabel(\"epoch\")\n",
    "plt.ylabel(\"loss\")\n",
    "plt.show()"
   ]
  },
  {
   "cell_type": "code",
   "execution_count": 28,
   "metadata": {},
   "outputs": [
    {
     "data": {
      "image/png": "[encoded data removed]",
      "text/plain": [
       "<matplotlib.figure.Figure at 0x7f18e9e55b00>"
      ]
     },
     "metadata": {},
     "output_type": "display_data"
    }
   ],
   "source": [
    "## p1 = 0.2, p2 = 0.5\n",
    "plt.plot(baseline_1_epochs,baseline_1_loss, linewidth=3, label=\"training Loss\")\n",
    "plt.plot(baseline_1_epochs,baseline_1_validation, linewidth=3, label=\"validation Loss\")\n",
    "plt.legend()\n",
    "plt.grid()\n",
    "plt.xlabel(\"epoch\")\n",
    "plt.ylabel(\"loss\")\n",
    "plt.show()"
   ]
  },
  {
   "cell_type": "code",
   "execution_count": 8,
   "metadata": {},
   "outputs": [
    {
     "data": {
      "image/png": "[encoded data removed]",
      "text/plain": [
       "<matplotlib.figure.Figure at 0x7f1906bae860>"
      ]
     },
     "metadata": {},
     "output_type": "display_data"
    }
   ],
   "source": [
    "## non conv net\n",
    "plt.plot(baseline_1_epochs,baseline_1_loss, linewidth=3, label=\"training Loss\")\n",
    "plt.plot(baseline_1_epochs,baseline_1_validation, linewidth=3, label=\"validation Loss\")\n",
    "plt.legend()\n",
    "plt.grid()\n",
    "plt.xlabel(\"epoch\")\n",
    "plt.ylabel(\"loss\")\n",
    "plt.show()"
   ]
  },
  {
   "cell_type": "code",
   "execution_count": null,
   "metadata": {
    "collapsed": true
   },
   "outputs": [],
   "source": []
  }
 ],
 "metadata": {
  "kernelspec": {
   "display_name": "Python 3",
   "language": "python",
   "name": "python3"
  },
  "language_info": {
   "codemirror_mode": {
    "name": "ipython",
    "version": 3
   },
   "file_extension": ".py",
   "mimetype": "text/x-python",
   "name": "python",
   "nbconvert_exporter": "python",
   "pygments_lexer": "ipython3",
   "version": "3.6.1"
  }
 },
 "nbformat": 4,
 "nbformat_minor": 2
}
