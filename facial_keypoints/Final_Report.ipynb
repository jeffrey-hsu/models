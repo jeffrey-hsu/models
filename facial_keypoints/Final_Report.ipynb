{
 "cells": [
  {
   "cell_type": "markdown",
   "metadata": {},
   "source": [
    "---\n",
    "# <div align=\"center\"> Final Project: Facial Keypoints Detection</div>"
   ]
  },
  {
   "cell_type": "markdown",
   "metadata": {},
   "source": [
    "<div style=\"font-weight:bold\" align=\"center\">Nishanth Nair</div> \n",
    "<div align=\"center\">nishanth@ischool.berkeley.edu</div> \n",
    "<div style=\"font-weight:bold\" align=\"center\">David Huber</div> \n",
    "<div align=\"center\">dhuber@ischool.berkeley.edu</div> \n",
    "<div style=\"font-weight:bold\" align=\"center\">Jeffrey Hsu</div> \n",
    "<div align=\"center\">jeffrey.hsu@ischool.berkeley.edu</div> \n",
    "\n",
    "---"
   ]
  },
  {
   "cell_type": "markdown",
   "metadata": {},
   "source": [
    "## Introduction "
   ]
  },
  {
   "cell_type": "markdown",
   "metadata": {
    "collapsed": true
   },
   "source": [
    "This report is our final submission towards the W207 project. This aims to detail the approach we have taken towards predicting facial keypoints as part of the Facial keypoint detection challenge on Kaggle.\n",
    "\n",
    "The objective of this task is to predict keypoint positions on face images using a given set of training images.\n",
    "\n",
    "Accuracy is evaluated on the root mean squared error. RMSE is very common and is a suitable general-purpose error metric. Compared to the Mean Absolute Error, RMSE punishes large errors:\n",
    "\n"
   ]
  },
  {
   "cell_type": "markdown",
   "metadata": {},
   "source": [
    "$$ RMSE = \\sqrt{\\frac{1}{n}. \\sum_{i=1}^{n}{(y_i - \\hat{y_i})^2}} $$"
   ]
  },
  {
   "cell_type": "markdown",
   "metadata": {},
   "source": [
    "At a very high level, the approach we have taken as well as the organization of this report can be broken down into a few steps.First, we perform some preprocessing on the training data to augment the dataset we have.Next, we explore various network architectures and optimization techniques and compare performance for each approach.Finally, we explore the use of ensembles and weighted averaging as a means to leverage the intricacies of these various models."
   ]
  },
  {
   "cell_type": "markdown",
   "metadata": {},
   "source": [
    "## Development Environment"
   ]
  },
  {
   "cell_type": "markdown",
   "metadata": {},
   "source": [
    "The development environment was setup as follows:\n",
    "- AWS g2.2xlarge instances \n",
    "    - 8\n",
    "    - 15\n",
    "    - 1 x 60 (SSD)\n",
    "    - 1 Nvidia GRID K520 4GB (GPU)\n",
    "    - cost: $0.65 per hour\n",
    "- Ubuntu 14.04\n",
    "- CuDNN 5.11\n",
    "- Cuda 8.0\n",
    "- Theano 0.9.0\n",
    "- Keras 2.02\n",
    "\n",
    "The initial setup used Theano but not Keras. Theano quickly proved to be slow to develop and customize and the documentation was often unhelpful. Keras has a large body of support online for troubleshooting errors and provided the ability to quickly try new models. This strength, along with a clear and intuitive methodology for customization, led to our adoption of Keras.\n",
    "\n",
    "Keras allows for a Google Tensorflow or a Theano backend. We found that when backed by Tensorflow the performance was drastically reduced when measuring time per epoch on many models. Theano was the clear winner for this hardware configuration.\n",
    "\n",
    "The setup of this environment was very time consuming because of various dependency issues. Ultimately, the simplest (though not entirely straightforward) method was to use Anaconda's installer for everything."
   ]
  },
  {
   "cell_type": "markdown",
   "metadata": {},
   "source": [
    "## Report Outline "
   ]
  },
  {
   "cell_type": "markdown",
   "metadata": {},
   "source": [
    "\n",
    "- **Section I: Data Augmentation**                   \n",
    "    - Overview\n",
    "    - Image Reflection\n",
    "    - Image Blurring\n",
    "    - Image Rotation                                \n",
    "    - Removing badly labelled data\n",
    "\n",
    "\n",
    "- **Section II: Model Architectures Explored**\n",
    "    - Overview\n",
    "    - Baseline Model : 2 Layer Neural Net           \n",
    "    - Arch 1: 3 Layer LeNet                        \n",
    "    - Arch 2: 4 layer LeNet                        \n",
    "    - Arch 3: 5 Layer LeNet\n",
    "\n",
    "\n",
    "- **Section III: Parameter Tuning, Optimization Techniques & Performance Improvements**\n",
    "    - Activation Functions\n",
    "        - ReLU                                     \n",
    "        - Maxout Layers\n",
    "        - S Shaped ReLU                            \n",
    "    - Dynamic Learning Rate\n",
    "        - Changing Learning Rate by Epoch          \n",
    "        - Reducing Learning rate on Plateau        \n",
    "    - Momentum Based Stochastic Gradient Descent\n",
    "        - Nesterov\n",
    "        - Dynamic Momentum\n",
    "    - Early Stopping                               \n",
    "    - Dropout\n",
    "    - Weights Initialization\n",
    "        - Glorot Uniform Initilaization\n",
    "        - Pre-Training                             \n",
    "    - Generation of specialist models             \n",
    "    - Ensembles                                    \n",
    "\n",
    "\n",
    "- **Section IV: Details of Models Tested**\n",
    "    - Model 1: 3 Layer LeNet + Pretraining + No data augmentation                                    \n",
    "    - Model 2: 4 Layer LeNet + No Pretraining + No data augmentation\n",
    "    - Model 3: 4 Layer LeNet + Pretraining + No data augmentation\n",
    "    - Model 4: 3 Layer LeNet + Pretraining + Data Augmentation (Blur, reflection)\n",
    "    - Model 5: 3 Layer LeNet + Pretraining + Data Augmentation (Blur, reflection) + Maxout Activation\n",
    "    - Model 6: 3 Layer LeNet + Pretraining + SReLU + Data Augmentation (Blur, reflection,rotation)\n",
    "    - Model 7: 5 Layer LeNet + No Pretraining + No data augmentation\n",
    "\n",
    "\n",
    "- **Section V: Results and Summary**\n",
    "    - Performance comparison                      \n",
    "\n",
    "\n",
    "- **Section VI: Conclusion**                      "
   ]
  },
  {
   "cell_type": "code",
   "execution_count": 21,
   "metadata": {},
   "outputs": [],
   "source": [
    "%matplotlib inline\n",
    "\n",
    "import os\n",
    "import re\n",
    "import sys\n",
    "import numpy as np\n",
    "import matplotlib.pyplot as plt\n",
    "import myhelper as helper\n",
    "import conv_net_helper as cnn_helper\n",
    "\n",
    "from keras.models import Sequential\n",
    "from keras.layers import Dense, Activation\n",
    "from keras.layers import Dropout, Flatten\n",
    "from keras.layers import Conv2D, MaxPooling2D\n",
    "from keras.optimizers import SGD\n",
    "from keras.utils import plot_model\n",
    "from keras.callbacks import LearningRateScheduler, EarlyStopping,ModelCheckpoint,ReduceLROnPlateau\n",
    "from sklearn.utils import shuffle\n",
    "from keras.preprocessing.image import ImageDataGenerator\n",
    "\n",
    "from collections import OrderedDict\n",
    "from six.moves import cPickle\n",
    "\n",
    "import pydot\n",
    "import h5py"
   ]
  },
  {
   "cell_type": "markdown",
   "metadata": {},
   "source": [
    "## I. Data Augmentation  "
   ]
  },
  {
   "cell_type": "markdown",
   "metadata": {},
   "source": [
    "### Overview"
   ]
  },
  {
   "cell_type": "markdown",
   "metadata": {
    "collapsed": true
   },
   "source": [
    "In the given dataset, we see that the keypoints are not consistently labelled for all of the training data.We use a variety of image processing techniques to help increase the size of our dataset as well as to provide better generalization for the models.In this section, we detail the steps taken for various pre-processing techniques at train time."
   ]
  },
  {
   "cell_type": "markdown",
   "metadata": {},
   "source": [
    "### 1. Image Reflection(Flipping)"
   ]
  },
  {
   "cell_type": "markdown",
   "metadata": {
    "collapsed": true
   },
   "source": [
    "In this approach, we horizontally flip the image as well as the coordinates of the labelled facial keypoints increasing the size of our dataset at train time."
   ]
  },
  {
   "cell_type": "code",
   "execution_count": 2,
   "metadata": {},
   "outputs": [
    {
     "name": "stdout",
     "output_type": "stream",
     "text": [
      "Loading data.....\n",
      "Loading data.....Done\n"
     ]
    },
    {
     "data": {
      "image/png": "[encoded data removed]",
      "text/plain": [
       "<matplotlib.figure.Figure at 0x11c31bad0>"
      ]
     },
     "metadata": {},
     "output_type": "display_data"
    }
   ],
   "source": [
    "def generate_flip():\n",
    "    def flip_image(X,y):\n",
    "        flip_indices = [\n",
    "            (0, 2), (1, 3),\n",
    "            (4, 8), (5, 9), (6, 10), (7, 11),\n",
    "            (12, 16), (13, 17), (14, 18), (15, 19),\n",
    "            (22, 24), (23, 25),\n",
    "            ]\n",
    "\n",
    "        X = X[:, :, ::-1]\n",
    "        y[::2] = y[::2] * -1\n",
    "        for a, b in flip_indices:\n",
    "            y[a], y[b] = (y[b], y[a])\n",
    "        return X,y  \n",
    "    \n",
    "    image_index = 7    \n",
    "    X,y = helper.load2d()\n",
    "    X_orig,y_orig =X[image_index][0:1],y[image_index] \n",
    "    fig = plt.figure(figsize=(10,10))\n",
    "    ax = fig.add_subplot(1, 2, 1, xticks=[], yticks=[])\n",
    "    ax.set_title('Original Image')\n",
    "    helper.plot_sample(X_orig,y_orig, ax)\n",
    "    X_flip,y_flip = flip_image(X_orig,y_orig)\n",
    "    ax = fig.add_subplot(1, 2, 2, xticks=[], yticks=[])\n",
    "    ax.set_title('Flipped Image')\n",
    "    helper.plot_sample(X_flip,y_flip, ax)\n",
    "    plt.show()\n",
    "    \n",
    "generate_flip()    "
   ]
  },
  {
   "cell_type": "markdown",
   "metadata": {},
   "source": [
    "The process we follow during training is as follows:\n",
    "1. We pass in a batch of images to our model.\n",
    "2. The model randomly chooses a set of indices from the batch of images and flips them.\n",
    "3. We then train the model with the input batch + the newly generated flipped images.\n",
    "\n",
    "With this approach, we augment our data with additional images generated at random during the training phase."
   ]
  },
  {
   "cell_type": "markdown",
   "metadata": {},
   "source": [
    "### 2. Image Blurring "
   ]
  },
  {
   "cell_type": "markdown",
   "metadata": {
    "collapsed": true
   },
   "source": [
    "In this approach, we add a gaussian blur to the image with a $\\sigma$ value of 1.\n",
    "In some of our models, we blur the entire training data and evaluate the performance using this data.\n",
    "\n"
   ]
  },
  {
   "cell_type": "code",
   "execution_count": 3,
   "metadata": {},
   "outputs": [
    {
     "name": "stdout",
     "output_type": "stream",
     "text": [
      "Loading data.....\n",
      "Loading data.....Done\n",
      "Loading data.....\n",
      "Loading data.....Done\n"
     ]
    },
    {
     "data": {
      "image/png": "[encoded data removed]",
      "text/plain": [
       "<matplotlib.figure.Figure at 0x111d35d90>"
      ]
     },
     "metadata": {},
     "output_type": "display_data"
    }
   ],
   "source": [
    "def generate_blur():\n",
    "    image_index = 7\n",
    "    X_orig,y_orig = helper.load2d(blur=False)\n",
    "    X_blur,y_blur = helper.load2d(blur=True)\n",
    "    fig = plt.figure(figsize=(10,10))\n",
    "    ax = fig.add_subplot(1, 2, 1, xticks=[], yticks=[])\n",
    "    ax.set_title('Original Image')\n",
    "    helper.plot_sample(X_orig[image_index][0:1],y_orig[image_index], ax)\n",
    "    ax = fig.add_subplot(1, 2, 2, xticks=[], yticks=[])\n",
    "    ax.set_title('Blurred Image')\n",
    "    helper.plot_sample(X_blur[image_index][0:1],y_blur[image_index], ax)\n",
    "    plt.show()\n",
    "    \n",
    "generate_blur()"
   ]
  },
  {
   "cell_type": "markdown",
   "metadata": {},
   "source": [
    "### 3. Image Rotation"
   ]
  },
  {
   "cell_type": "markdown",
   "metadata": {},
   "source": [
    "Rotate the image by $\\theta$ degrees"
   ]
  },
  {
   "cell_type": "code",
   "execution_count": 4,
   "metadata": {
    "collapsed": true
   },
   "outputs": [],
   "source": [
    "from math import sin,cos,pi\n",
    "from scipy.ndimage import rotate\n",
    "\n",
    "def rotate_keypoints(X,y,theta):\n",
    "    centre=0.5*np.array(X.shape)\n",
    "    a=theta*pi/180.0\n",
    "    \n",
    "    ox = centre[0]\n",
    "    oy = centre[1]\n",
    "    px = y[0::2] * 48 + 48, \n",
    "    py = y[1::2] * 48 + 48\n",
    "    \n",
    "    qx = ox + cos(a) * (px - ox) - sin(a) * (py - oy)\n",
    "    qy = oy + sin(a) * (px - ox) + cos(a) * (py - oy)    \n",
    "\n",
    "    final = np.empty((qx.size + qy.size,), dtype=qx.dtype)\n",
    "    final[0::2] = (qx-48)/48\n",
    "    final[1::2] = (qy-48)/48 \n",
    "    return final\n",
    "    \n",
    "def rotate_img(X,y,theta):\n",
    "    image = rotate(X, theta, reshape=False,mode='nearest')\n",
    "    labels = rotate_keypoints(X,y,-theta)\n",
    "    return image,labels"
   ]
  },
  {
   "cell_type": "code",
   "execution_count": 5,
   "metadata": {},
   "outputs": [
    {
     "name": "stdout",
     "output_type": "stream",
     "text": [
      "Loading data.....\n",
      "Loading data.....Done\n"
     ]
    },
    {
     "data": {
      "image/png": "[encoded data removed]",
      "text/plain": [
       "<matplotlib.figure.Figure at 0x111b8f790>"
      ]
     },
     "metadata": {},
     "output_type": "display_data"
    }
   ],
   "source": [
    "def test_rotate(theta = 5):\n",
    "    image_index = 7\n",
    "    X,y = helper.load2d(blur=False)\n",
    "    \n",
    "    X_orig,y_orig = X[image_index][0:1],y[image_index] \n",
    "    X_rotate_C,labels_C = rotate_img(X_orig[0],y_orig,theta)\n",
    "    X_rotate_A,labels_A = rotate_img(X_orig[0],y_orig,-theta)\n",
    "    \n",
    "    fig = plt.figure(figsize=(15,15))\n",
    "    ax = fig.add_subplot(1, 3, 1, xticks=[], yticks=[])\n",
    "    ax.set_title('Original Image')\n",
    "    helper.plot_sample(X_orig,y_orig, ax)\n",
    "    ax = fig.add_subplot(1, 3, 2, xticks=[], yticks=[])\n",
    "    ax.set_title('Rotated Image +')\n",
    "    helper.plot_sample(X_rotate_C,labels_C, ax)\n",
    "    ax = fig.add_subplot(1, 3, 3, xticks=[], yticks=[])\n",
    "    ax.set_title('Rotated Image -')\n",
    "    helper.plot_sample(X_rotate_A,labels_A, ax)\n",
    "    plt.show()\n",
    "    \n",
    "\n",
    "test_rotate(theta = 10)"
   ]
  },
  {
   "cell_type": "markdown",
   "metadata": {},
   "source": [
    "### 4. Bad Labelled Data "
   ]
  },
  {
   "cell_type": "code",
   "execution_count": 6,
   "metadata": {},
   "outputs": [
    {
     "name": "stdout",
     "output_type": "stream",
     "text": [
      "Loading data.....\n",
      "Loading data.....Done\n"
     ]
    },
    {
     "data": {
      "image/png": "[encoded data removed]",
      "text/plain": [
       "<matplotlib.figure.Figure at 0x11f099190>"
      ]
     },
     "metadata": {},
     "output_type": "display_data"
    }
   ],
   "source": [
    "def plt_bad_data():\n",
    "    image_indices = [1747, 1877, 1907, 2090, 2199]\n",
    "    X,y = helper.get_all_images()\n",
    "    fig = plt.figure(figsize=(25,25))\n",
    "    for i in range(len(image_indices)):\n",
    "        ax = fig.add_subplot(1, 5, i+1, xticks=[], yticks=[])\n",
    "        helper.plot_sample(X[image_indices[i]][0:1],y[image_indices[i]], ax)\n",
    "    plt.show()\n",
    "    \n",
    "plt_bad_data()"
   ]
  },
  {
   "cell_type": "markdown",
   "metadata": {},
   "source": [
    "## II. Model Architectures Explored"
   ]
  },
  {
   "cell_type": "markdown",
   "metadata": {
    "collapsed": true
   },
   "source": [
    "### Overview"
   ]
  },
  {
   "cell_type": "markdown",
   "metadata": {},
   "source": [
    "In this section, we explore the various architectures we used to compare preformance on the test data."
   ]
  },
  {
   "cell_type": "markdown",
   "metadata": {},
   "source": [
    "### Baseline Model"
   ]
  },
  {
   "cell_type": "markdown",
   "metadata": {},
   "source": [
    "In out initial baseline model, we used a simple 2 layer neural network with sigmoid activation in the hidden layer to train the data.This model had 300 nodes in the hidden layer and was trained for 150 epochs.\n",
    "\n",
    "The architecture used is as depicted below:"
   ]
  },
  {
   "cell_type": "markdown",
   "metadata": {},
   "source": [
    "<img src='images/baseline.png'width=\"700\" align=\"left\">"
   ]
  },
  {
   "cell_type": "markdown",
   "metadata": {},
   "source": [
    "Please refer the doc [final_project_nair_huber_hsu.ipynb](https://github.com/nishanth01/W207_Final_Project/blob/master/final_project_nair_huber_hsu.ipynb) for more details on the baseline model."
   ]
  },
  {
   "cell_type": "markdown",
   "metadata": {},
   "source": [
    "### Arch 1: 3 Layer LeNet "
   ]
  },
  {
   "cell_type": "markdown",
   "metadata": {},
   "source": [
    "In our first architecture, we use the LeNet architecture consisting of 3 layers of alternating convolution and max pool layers followed by 2 fully connected layers having 500 nodes each.\n",
    "\n",
    "Below is a representation of the architecture used.In section III, we detail the various optimizations used with the architecture."
   ]
  },
  {
   "cell_type": "markdown",
   "metadata": {},
   "source": [
    "<img src='images/model1_arch.png' width=\"500\" align=\"left\">"
   ]
  },
  {
   "cell_type": "markdown",
   "metadata": {},
   "source": [
    "### Arch 2: 4 Layer LeNet"
   ]
  },
  {
   "cell_type": "markdown",
   "metadata": {},
   "source": [
    "In this model, we again use the LeNet Architecture but add an additional convolution and max pool layer as depicted below.\n",
    "\n",
    "Another difference here is that instead of training one model for all outputs, we train different models for different keypoints. More details on this in section IV.\n",
    "\n",
    "Architecture is same for all models except for the output layer."
   ]
  },
  {
   "cell_type": "markdown",
   "metadata": {},
   "source": [
    "<img src='images/model2_arch.png' width=\"500\" align=\"left\">"
   ]
  },
  {
   "cell_type": "markdown",
   "metadata": {},
   "source": [
    "### Arch 3: 5 Layer LeNet"
   ]
  },
  {
   "cell_type": "markdown",
   "metadata": {},
   "source": [
    "With model 4, we continue using the LeNet Architecture. Additional convolutional layers and dense connected layed are added. In total there are 5 convolutional layers for feature extraction and 5 dense layers for getting the final output. Each convolutional layer comes with pooling for reducing number of parameters and dropout for avoiding overfitting.\n",
    "\n",
    "Similar to model 2, instead of training one model for all outputs, we trained different specialized CNN models for different keypoint sets. The example below depicts a CNN built for capturing the 4 eye corners keypoints, thus the ouput is with shape 4. At prediction time, each CNN for different set of keypoints generate the predicted position of keypoints and results are validated together."
   ]
  },
  {
   "cell_type": "markdown",
   "metadata": {},
   "source": [
    "<img src='images/model4_arch.png' width=\"700\" align=\"left\">"
   ]
  },
  {
   "cell_type": "markdown",
   "metadata": {},
   "source": [
    "## III. Parameter Tuning , Optimization Techniques & Performance Improvements"
   ]
  },
  {
   "cell_type": "markdown",
   "metadata": {},
   "source": [
    "### Activation Functions"
   ]
  },
  {
   "cell_type": "markdown",
   "metadata": {},
   "source": [
    "#### 1. ReLU - Rectified Linear Unit"
   ]
  },
  {
   "cell_type": "markdown",
   "metadata": {
    "collapsed": true
   },
   "source": [
    "In most of our models, we use the Rectifier Activation as the non-linearity for most layers which is defined as \n",
    "\n",
    "$$f(x) = x^+ = max(0,x)$$\n"
   ]
  },
  {
   "cell_type": "markdown",
   "metadata": {},
   "source": [
    "In our experiments, we notice that using ReLU increases rate of convergence as opposed to sigmoid activation and we get better generalization as well. A typical representation of this activation is as below:"
   ]
  },
  {
   "cell_type": "markdown",
   "metadata": {},
   "source": [
    "<img src='images/relu.png'>"
   ]
  },
  {
   "cell_type": "markdown",
   "metadata": {},
   "source": [
    "#### 2. Maxout Layers"
   ]
  },
  {
   "cell_type": "markdown",
   "metadata": {
    "collapsed": true
   },
   "source": [
    "$$ f(x) = x^+ = max([x_1, x_2, \\dots, x_n]) \\> ; \\>\\text{where $x$ is a hidden layer} $$\n"
   ]
  },
  {
   "cell_type": "markdown",
   "metadata": {},
   "source": [
    "<img src='images/maxout.png'>\n",
    "<img src='images/maxout_layer.png'>\n",
    "<div align=\"center\">$v$ inputs, $z$ neurons per $h$ hidden layer, with maximum taken in $g$</div>"
   ]
  },
  {
   "cell_type": "markdown",
   "metadata": {},
   "source": [
    "Maxout activation is implemented with a sub-network of hidden layers rather than a function. A maxout layer trains multiple layers in parallel and then takes the max of each learned weight across those layers. This is effectively max pooling across features rather than feature neighborhoods. Maxout activation can be interpreted as making a piecewise linear approximation to an arbitrary convex function to learn the best activation function for the particular task at hand (graphical depiction above on top). It address the problem of neuron saturation by being bounded from neither above nor below. A potential drawback is that there are $n$ times as many neurons per layer, where $n$ is the width of the maxout sub-network."
   ]
  },
  {
   "cell_type": "markdown",
   "metadata": {},
   "source": [
    "#### 3. S-Shaped ReLU"
   ]
  },
  {
   "cell_type": "markdown",
   "metadata": {
    "collapsed": true
   },
   "source": [
    "One reason we examine the use of sReLU is that none of the other activation functions(relu,leaky relu, parametric relu,maxout,sigmoid) can learn non convex functions since they are primarily convex functions.\n",
    "\n",
    "Some of the documented advantages of this activation are as folows:\n",
    "- Learns both convex and non convex functions without imposing restrictions on learning parameters\n",
    "- Since it utilizes piecewise linear functions rather than saturated functions it does not suffer from the “exploding/vanishing gradient” problem and has high computational speed during the forward and backpropagation of deep networks.\n",
    "\n"
   ]
  },
  {
   "cell_type": "markdown",
   "metadata": {},
   "source": [
    "<img src='images/srelu.png'>"
   ]
  },
  {
   "cell_type": "markdown",
   "metadata": {},
   "source": [
    "### Dynamic Learning Rates"
   ]
  },
  {
   "cell_type": "markdown",
   "metadata": {
    "collapsed": true
   },
   "source": [
    "We notice that with a fixed learning rate, training takes a lot of time and beyond a certain point, the network stops learning or generalizing.The learning rate is critical for getting the best performance out of a network.\n",
    "If the rate is too small, we fail to converge or will take too long and if its too large, results could start diverging. To address this, we use the following techniques to optimize our learning."
   ]
  },
  {
   "cell_type": "markdown",
   "metadata": {},
   "source": [
    "<img src='images/learning_rates.png'>"
   ]
  },
  {
   "cell_type": "markdown",
   "metadata": {},
   "source": [
    "#### 1. Changing Learning Rate by Epoch"
   ]
  },
  {
   "cell_type": "markdown",
   "metadata": {},
   "source": [
    "We use the LearningrateScheduler provided by Keras to change the learning rate dynamically per epoch.\n",
    "We start with a high value and as training progresses, we keep decrementing the learning rate.The intiution behind this is that initially, we are far away from our target and take large steps toward the target, but as we reach closer, we take smaller steps by decresing the learning rate."
   ]
  },
  {
   "cell_type": "markdown",
   "metadata": {},
   "source": [
    "```\n",
    "learning_rates = np.linspace(start, stop, epochs)\n",
    "change_lr = LearningRateScheduler(lambda epoch: float(learning_rates[epoch]))\n",
    "```"
   ]
  },
  {
   "cell_type": "markdown",
   "metadata": {},
   "source": [
    "#### 2. Reducing Learning rate on Plateau\n"
   ]
  },
  {
   "cell_type": "markdown",
   "metadata": {
    "collapsed": true
   },
   "source": [
    "Keras provides a call back we can use to reduce the learning rate once learning stagnates.In our tests, we monitor the validation loss and reduce the learning rate by a small factor if its been stagnant for n epochs."
   ]
  },
  {
   "cell_type": "markdown",
   "metadata": {},
   "source": [
    "```\n",
    "reduce_lr = ReduceLROnPlateau(monitor='val_loss', factor=0.001,patience=30, min_lr=stop)\n",
    "```"
   ]
  },
  {
   "cell_type": "markdown",
   "metadata": {},
   "source": [
    "### Momentum Based Stochastic Gradient Descent"
   ]
  },
  {
   "cell_type": "markdown",
   "metadata": {
    "collapsed": true
   },
   "source": [
    "#### Standard Momentum"
   ]
  },
  {
   "cell_type": "markdown",
   "metadata": {},
   "source": [
    "Momentum is added to standard SGD to assist in moving more quickly across shallower parts of the objective function. Instead of just the negative gradient, it uses the sum of the negative gradient and the weighted update from the previous update. The weight is a hyperparameter."
   ]
  },
  {
   "cell_type": "markdown",
   "metadata": {},
   "source": [
    "#### Nesterov Momentum"
   ]
  },
  {
   "cell_type": "markdown",
   "metadata": {},
   "source": [
    "Instead of taking the sum of the negative gradient and momentum based on the previous update, Nesterov momentum applies the momentum term first and then takes the gradient at that \"look-ahead\" position. Then, as before, the negative of this gradient is summed with the weighted most recent update. Nesterov Momentum provides stronger convergence guarantees for convex functions. After early testing with many paremeter update methods, Nesterov momentum consistently surfaced as the most fruitful and was used in nearly all models tested."
   ]
  },
  {
   "cell_type": "markdown",
   "metadata": {},
   "source": [
    "<img src='images/nesterov.jpeg'>"
   ]
  },
  {
   "cell_type": "markdown",
   "metadata": {},
   "source": [
    "### Dynamic Momentum"
   ]
  },
  {
   "cell_type": "markdown",
   "metadata": {},
   "source": [
    "#### 1. Changing Momentum by Epoch"
   ]
  },
  {
   "cell_type": "markdown",
   "metadata": {},
   "source": [
    "Keras does not provide a direct way to change the momentum parameter dynamically per epoch so we wrote a callback function that extends the base Keras callback class based on the code of the built in LearningRateScheduler. In a similar fashion, we started at a modest value for momentum, and then increased it towards a very high value as the epochs progressed. This is especially useful to keep convergence moving as the learning rate dynamically decreases and the process approaches the minimum."
   ]
  },
  {
   "cell_type": "markdown",
   "metadata": {},
   "source": [
    "```\n",
    "class MomentumScheduler(Callback):\n",
    "    \n",
    "    def __init__(self, schedule):\n",
    "        super(MomentumScheduler, self).__init__()\n",
    "        self.schedule = schedule\n",
    "\n",
    "    def on_epoch_begin(self, epoch, logs={}):\n",
    "        assert hasattr(self.model.optimizer, 'momentum'), \\\n",
    "            'Optimizer must have a \"momentum\" attribute.'\n",
    "        momentum = self.schedule(epoch)\n",
    "        assert type(momentum) == float, 'The output of the \"schedule\" function should be float.'\n",
    "        self.model.optimizer.momentum.set_value( momentum)\n",
    "```\n",
    "```\n",
    "momentum_rates = np.linspace(mom_start, mom_stop, epochs)\n",
    "change_mom = MomentumScheduler( lambda epoch: float(momentum_rates[epoch]))\n",
    "```"
   ]
  },
  {
   "cell_type": "markdown",
   "metadata": {},
   "source": [
    "### Dropout"
   ]
  },
  {
   "cell_type": "markdown",
   "metadata": {},
   "source": [
    "<img src=\"images/dropout1.png\">"
   ]
  },
  {
   "cell_type": "markdown",
   "metadata": {},
   "source": [
    "Dropout is a technique that, during training, each neuron's output is dropped (set to 0) randomly with probability $p$. So on each epoch, a subset of the full model is trained, and on the next epoch a different subset is randomly chosen for training. This has the effect of training an ensemble of models and producing an approximate average model. Dropout is a simple and effective way to introduce regularization that helps prevent overfitting. Dropout paired with Maxout activation has been shown to generalize quite well, and they are frequently used together."
   ]
  },
  {
   "cell_type": "markdown",
   "metadata": {},
   "source": [
    "### Early Stopping"
   ]
  },
  {
   "cell_type": "markdown",
   "metadata": {
    "collapsed": true
   },
   "source": [
    "The idea behind early stop is to monitor the validation and training loss and stop training when the gap starts to widen thus preventing overfitting and getting a model that is better generalized.\n",
    "\n",
    "Keras provides a callback to manage Early stopping.\n",
    "\n",
    "```\n",
    "early_stop = EarlyStopping(monitor='val_loss',patience=100)\n",
    "```"
   ]
  },
  {
   "cell_type": "markdown",
   "metadata": {},
   "source": [
    "<img src=\"images/early_stop.png\">"
   ]
  },
  {
   "cell_type": "markdown",
   "metadata": {},
   "source": [
    "### Weights Initialization"
   ]
  },
  {
   "cell_type": "markdown",
   "metadata": {},
   "source": [
    "#### 1. Glorot Uniform Initialization"
   ]
  },
  {
   "cell_type": "markdown",
   "metadata": {
    "collapsed": true
   },
   "source": [
    "Glorot uniform style initialization draws samples from a uniform distribution within $[-limit,limit]$\n",
    "\n",
    "where: $$limit = \\sqrt{\\frac{6}{fan\\_in + fan\\_out}}$$\n",
    "and $fan\\_in$ and $fan\\_out$ are the number of input and output units to the layer, respectively."
   ]
  },
  {
   "cell_type": "markdown",
   "metadata": {},
   "source": [
    "#### 2. Pre-Training \\ Transfer Learning"
   ]
  },
  {
   "cell_type": "markdown",
   "metadata": {},
   "source": [
    "For all of our models, we first train a base model initialized by Glorot uniform or some other initilizer and persist the model after training.We then build specialist models with weights initilized from the pretrained models.\n",
    "\n",
    "Some of the advantages we see with this approach are as follows:\n",
    "\n",
    "- Better convergence and fine tuning of weights\n",
    "- Faster training for specilists since they converge faster\n",
    "- In many cases, we see training stop early because of the early stopping rules we set.\n",
    "- We also use smaller training rates for the specialist training."
   ]
  },
  {
   "cell_type": "markdown",
   "metadata": {},
   "source": [
    "<img src=\"images/pretrain_compare.png\">"
   ]
  },
  {
   "cell_type": "markdown",
   "metadata": {},
   "source": [
    "### Generation of specialist models"
   ]
  },
  {
   "cell_type": "markdown",
   "metadata": {
    "collapsed": true
   },
   "source": [
    "When we analyze the data we see that out of the 7000 samples provided, only around 2000 have all keypoints labelled.\n",
    "If we train a single model for all the keypoints, we would not be using over 70% of the data. To overcome this, we create seperate models for sets of keypoints giving us better performance while predicting on the test set.\n",
    "\n",
    "We create 6 specialists for the 30 keypoint coordinates as follows:\n",
    "\n"
   ]
  },
  {
   "cell_type": "markdown",
   "metadata": {},
   "source": [
    "<img src=\"images/specialists_table.png\" width=\"500\" align=\"left\">"
   ]
  },
  {
   "cell_type": "markdown",
   "metadata": {},
   "source": [
    "### Ensembles"
   ]
  },
  {
   "cell_type": "markdown",
   "metadata": {
    "collapsed": true
   },
   "source": [
    "Eventhough we have specialists for the keypoints, we use different techniques to train various models.So essentially different models are learning different features from the training datasets.This gives us an opportunity to experiment with an ensemble of models and determine how the ensemble works as opposed to each independent model.\n",
    "\n",
    "We use the best models we have to create an ensemble of specialists and use the weighted average of their scores to determine the final prediction on the test set.\n",
    "\n",
    "We follow the following process to create and use the ensembles:\n",
    "\n",
    "- **STEP 1: Assigning a score to each model**\n",
    "\n",
    "Here, we use two scores to determine the weight assigned to each model.One, we use the validation score on the dev set and the final kaggle score for the given model.(**Note**: All specialists are assigned the same kaggle score).\n",
    "This process is depicted below:"
   ]
  },
  {
   "cell_type": "markdown",
   "metadata": {},
   "source": [
    "<img src=\"images/ensemble_step1.png\" width=\"500\" align=\"left\">"
   ]
  },
  {
   "cell_type": "markdown",
   "metadata": {},
   "source": [
    "- **STEP 2: Determine model weight and specialist weight**"
   ]
  },
  {
   "cell_type": "markdown",
   "metadata": {},
   "source": [
    "Rather than using a linear weight strategy, we use an exponential weighting strategy. \n",
    "For example improving the score from 1.9 to 1.6 is much tougher than moving from 2.3 to 1.9.And we account for this difference in points by using an exponential function.So the idea is that specialists performing better get a much higher weight than those performing worse.\n",
    "\n",
    "We compute two weights based on the scores collected for each ensemble:\n",
    "     - Feed in model scores to get a weight per base model\n",
    "     - Compute the specialist weight based on the specialist scores."
   ]
  },
  {
   "cell_type": "markdown",
   "metadata": {},
   "source": [
    "- **STEP 3: Final Prediction**"
   ]
  },
  {
   "cell_type": "markdown",
   "metadata": {},
   "source": [
    "For the final prediction, we assign a weight of 0.6 to the model weight since its based on kaggle scores and a weight of 0.4 to the specialist weights since its based on training data and use the final weight to compute a weighted average of the predicted values across the ensembles.This final value is used as our prediction for the test set."
   ]
  },
  {
   "cell_type": "markdown",
   "metadata": {},
   "source": [
    "## IV. Details of Models Tested"
   ]
  },
  {
   "cell_type": "markdown",
   "metadata": {
    "collapsed": true
   },
   "source": [
    "### Model 1:  3 Layer LeNet + Pretraining + No data augmentation"
   ]
  },
  {
   "cell_type": "markdown",
   "metadata": {},
   "source": [
    "In this model, we use 3 alternating convolution layers followed by a fully connected layer with 500 nodes each.\n",
    "All nodes use the rectified linear activation function.\n",
    "We use the given training data with no data augmentation or prerpocessing.\n",
    "We use nesterov momentum optimizer, set early stop with a patience of 100 epochs and use a batch size of 128."
   ]
  },
  {
   "cell_type": "markdown",
   "metadata": {},
   "source": [
    "We first train our base model as follows:"
   ]
  },
  {
   "cell_type": "code",
   "execution_count": 7,
   "metadata": {
    "collapsed": true
   },
   "outputs": [],
   "source": [
    "def execute_pretrain_model(epochs=1000):\n",
    "    start = 0.03\n",
    "    stop = 0.001\n",
    "    batch_size = 128\n",
    "    \n",
    "    dropout1 = 0.1\n",
    "    dropout2 = 0.2\n",
    "    dropout3 = 0.3\n",
    "    dropout4 = 0.4\n",
    "    \n",
    "    X, y = helper.load2d()\n",
    "    train_data, dev_data, train_labels, dev_labels = helper.get_split_data(X,y)\n",
    "    \n",
    "    model = Sequential()\n",
    "\n",
    "    model.add(Conv2D(32, (3, 3), activation='relu', data_format = 'channels_first', input_shape=(1,96, 96)))\n",
    "    model.add(MaxPooling2D(pool_size=(2, 2),data_format = 'channels_first'))\n",
    "    model.add(Dropout(dropout1)) \n",
    "\n",
    "    model.add(Conv2D(64, (2, 2), activation='relu',data_format = 'channels_first'))\n",
    "    model.add(MaxPooling2D(pool_size=(2, 2),data_format = 'channels_first'))\n",
    "    model.add(Dropout(dropout2)) \n",
    "\n",
    "    model.add(Conv2D(128, (2, 2), activation='relu',data_format = 'channels_first'))\n",
    "    model.add(MaxPooling2D(pool_size=(2, 2),data_format = 'channels_first'))\n",
    "    model.add(Dropout(dropout3)) \n",
    "\n",
    "    model.add(Flatten())\n",
    "    model.add(Dense(500, activation='relu'))\n",
    "    model.add(Dropout(dropout4)) \n",
    "    model.add(Dense(500, activation='relu'))\n",
    "    model.add(Dense(30))\n",
    "\n",
    "    sgd = SGD(lr=start, momentum=0.9, nesterov=True)\n",
    "    model.compile(loss='mean_squared_error', optimizer=sgd)\n",
    "    \n",
    "    early_stop = EarlyStopping(patience=100)\n",
    "    learning_rates = np.linspace(start, stop, epochs)\n",
    "    change_lr = LearningRateScheduler(lambda epoch: float(learning_rates[epoch]))\n",
    "    \n",
    "    data =  model.fit(train_data, train_labels, \n",
    "                       batch_size = batch_size,\n",
    "                       epochs=epochs, \n",
    "                       validation_data=(dev_data, dev_labels),\n",
    "                       callbacks=[change_lr, early_stop])\n",
    "    \n",
    "    helper.plot_model_performance(data)\n",
    "    helper.get_error(model,dev_data, dev_labels)\n",
    "    helper.save_model(model,\"pretrain_model\")\n",
    "    return model"
   ]
  },
  {
   "cell_type": "markdown",
   "metadata": {},
   "source": [
    "We see the following results for the base model"
   ]
  },
  {
   "cell_type": "markdown",
   "metadata": {},
   "source": [
    "<img src=\"images/model1_base_results.png\">"
   ]
  },
  {
   "cell_type": "markdown",
   "metadata": {},
   "source": [
    "Once we have the pre trained model, we train specialists for each keypoint using this pretrained model.\n",
    "This is done as follows:"
   ]
  },
  {
   "cell_type": "code",
   "execution_count": 8,
   "metadata": {
    "collapsed": true
   },
   "outputs": [],
   "source": [
    "def train_specialist(cols,epochs = 1000,start = 0.01,stop = 0.001,\n",
    "                     prefix = 'specialist_model',\n",
    "                     batch_size = 128,\n",
    "                     saved_model = None):\n",
    "    \n",
    "    print 'Training model for columns {0} for {1} epochs'.format(cols, epochs)\n",
    "    X, y = helper.load2d(cols=cols)\n",
    "    train_data, dev_data, train_labels, dev_labels = helper.get_split_data(X,y)\n",
    "    model_name = '{0}_{1}'.format(prefix,cols[0])\n",
    "    \n",
    "    use_pre = True\n",
    "    if saved_model is not None:\n",
    "        if os.path.isfile(saved_model):\n",
    "            print 'Weights saved...'\n",
    "            use_pre = False\n",
    "        else:\n",
    "            print 'NO Saved weights'\n",
    "    else:\n",
    "        print 'NO Saved weights'\n",
    "        \n",
    "    \n",
    "    model = helper.retrieve_model('pretrain_model',weights=use_pre)\n",
    "    helper.pop_layer(model)\n",
    "    model.add(Dense(len(cols),name=cols[0]))\n",
    "    if not use_pre:\n",
    "        print 'Loading saved weights...'\n",
    "        model.load_weights(saved_model)\n",
    "        \n",
    "    sgd = SGD(lr=start, momentum=0.9, nesterov=True)\n",
    "    model.compile(loss='mean_squared_error', optimizer=sgd)\n",
    "\n",
    "    early_stop = EarlyStopping(monitor='val_loss',patience=100)\n",
    "    learning_rates = np.linspace(start, stop, epochs)\n",
    "    change_lr = LearningRateScheduler(lambda epoch: float(learning_rates[epoch]))\n",
    "    \n",
    "    path = model_name+\"_weights_epoch-{epoch:02d}.h5\"  \n",
    "    check_point = ModelCheckpoint(path,period=100,verbose=1) \n",
    "\n",
    "    data =  model.fit(train_data, train_labels, \n",
    "                      batch_size = batch_size,\n",
    "                      epochs=epochs, \n",
    "                      validation_data=(dev_data, dev_labels),\n",
    "                      callbacks=[change_lr, early_stop])#,check_point\n",
    "\n",
    "    helper.save_model(model,model_name)\n",
    "    helper.plot_model_performance(data)\n",
    "    helper.get_error(model,dev_data, dev_labels)\n",
    "    return model    "
   ]
  },
  {
   "cell_type": "markdown",
   "metadata": {},
   "source": [
    "We use the following settings for each specialist and persist the resulting model."
   ]
  },
  {
   "cell_type": "code",
   "execution_count": 9,
   "metadata": {
    "collapsed": true
   },
   "outputs": [],
   "source": [
    "def sample_code_1():\n",
    "    cols = helper.SPECIALIST_SETTINGS[0]['columns']\n",
    "    prefix = 'specialist_model'\n",
    "    start = 0.01\n",
    "    stop = 0.001\n",
    "    batch_size = 64\n",
    "    epochs = 1000\n",
    "    last_saved = None#'specialist_model_left_eye_center_x_weights_epoch-599.h5'\n",
    "\n",
    "    train_specialist(cols,epochs,start,stop,prefix,batch_size,last_saved)"
   ]
  },
  {
   "cell_type": "markdown",
   "metadata": {},
   "source": [
    "We see the following results from our first model"
   ]
  },
  {
   "cell_type": "markdown",
   "metadata": {},
   "source": [
    "<img src=\"images/ensemble_0_results.png\">"
   ]
  },
  {
   "cell_type": "markdown",
   "metadata": {},
   "source": [
    "Some points to note from our first model:\n",
    "    - We see better convergence in the specialists compared to the base model\n",
    "    - Eventhough the base model has an error of 2.2,some of the specialists have worse scores compared to the base model.\n",
    "    - We see early stops in some specialists\n",
    "    - In most cases, we do see some evidence of overfitting"
   ]
  },
  {
   "cell_type": "markdown",
   "metadata": {},
   "source": [
    "**NOTE**: For detailed code and execution logs refer the below:\n",
    "- Base model execution notebook : [Pretrain_Model_1.ipynb](https://github.com/nishanth01/W207_Final_Project/blob/master/submission_files/notebooks/Pretrain_Model_1.ipynb)\n",
    "- Specialists execution notebook: [Ensemble_0.ipynb](https://github.com/nishanth01/W207_Final_Project/blob/master/submission_files/notebooks/Ensemble_0.ipynb)"
   ]
  },
  {
   "cell_type": "markdown",
   "metadata": {},
   "source": [
    "### Model 2:  4 Layer LeNet + No Pretraining + No data augmentation "
   ]
  },
  {
   "cell_type": "markdown",
   "metadata": {
    "collapsed": true
   },
   "source": [
    "In this model, we use 4 alternating convolution layers followed by a fully connected layer with 500 nodes each.\n",
    "We keep all parameters identical to our first model and have no data augmentation on the training data."
   ]
  },
  {
   "cell_type": "code",
   "execution_count": 10,
   "metadata": {
    "collapsed": true
   },
   "outputs": [],
   "source": [
    "def train_ensemble2(cols,model_number,epochs=10):\n",
    "\n",
    "    model_name = 'specialist_model_{0}_ensemble-{1}'.format(cols[0],model_number)\n",
    "    \n",
    "    start = 0.03\n",
    "    stop = 0.001\n",
    "    batch_size = 128\n",
    "    \n",
    "    dropout1 = 0.1\n",
    "    dropout2 = 0.2\n",
    "    dropout3 = 0.3\n",
    "    dropout4 = 0.4\n",
    "    dropout5 = 0.5\n",
    "    \n",
    "    X, y = helper.load2d(cols=cols)\n",
    "    X, y = shuffle(X, y)\n",
    "    train_data, dev_data, train_labels, dev_labels = helper.get_split_data(X,y)\n",
    "    \n",
    "    model = Sequential()\n",
    "\n",
    "    model.add(Conv2D(32, (3, 3), activation='relu', data_format = 'channels_first', input_shape=(1,96, 96)))\n",
    "    model.add(MaxPooling2D(pool_size=(2, 2),data_format = 'channels_first'))\n",
    "    model.add(Dropout(dropout1)) \n",
    "\n",
    "    model.add(Conv2D(64, (3, 3), activation='relu',data_format = 'channels_first'))\n",
    "    model.add(MaxPooling2D(pool_size=(2, 2),data_format = 'channels_first'))\n",
    "    model.add(Dropout(dropout2)) \n",
    "\n",
    "    model.add(Conv2D(128, (2, 2), activation='relu',data_format = 'channels_first'))\n",
    "    model.add(MaxPooling2D(pool_size=(2, 2),data_format = 'channels_first'))\n",
    "    model.add(Dropout(dropout3)) \n",
    "\n",
    "    model.add(Conv2D(256, (2, 2), activation='relu',data_format = 'channels_first'))\n",
    "    model.add(MaxPooling2D(pool_size=(2, 2),data_format = 'channels_first'))\n",
    "    model.add(Dropout(dropout4)) \n",
    "    \n",
    "    \n",
    "    model.add(Flatten())\n",
    "    model.add(Dense(500, activation='relu'))\n",
    "    model.add(Dropout(dropout5)) \n",
    "    model.add(Dense(500, activation='relu'))\n",
    "    model.add(Dense(len(cols)))\n",
    "\n",
    "    sgd = SGD(lr=start, momentum=0.9, nesterov=True)\n",
    "    model.compile(loss='mean_squared_error', optimizer=sgd)\n",
    "    \n",
    "    early_stop = EarlyStopping(patience=100)\n",
    "    learning_rates = np.linspace(start, stop, epochs)\n",
    "    change_lr = LearningRateScheduler(lambda epoch: float(learning_rates[epoch]))\n",
    "    \n",
    "    data =  model.fit(train_data, train_labels, \n",
    "                       batch_size = batch_size,\n",
    "                       epochs=epochs, \n",
    "                       validation_data=(dev_data, dev_labels),\n",
    "                       callbacks=[change_lr, early_stop])\n",
    "    \n",
    "    helper.plot_model_performance(data)\n",
    "    helper.get_error(model,dev_data, dev_labels)\n",
    "    helper.save_model(model,model_name)"
   ]
  },
  {
   "cell_type": "markdown",
   "metadata": {},
   "source": [
    "We directly train specialists on this model.Sample code to train as below:"
   ]
  },
  {
   "cell_type": "code",
   "execution_count": 11,
   "metadata": {
    "collapsed": true
   },
   "outputs": [],
   "source": [
    "def sample_code_2():\n",
    "    cols = helper.SPECIALIST_SETTINGS[0]['columns']\n",
    "    train_ensemble2(cols,model_number,epochs=3000)"
   ]
  },
  {
   "cell_type": "markdown",
   "metadata": {},
   "source": [
    "The results from our training are as follows:"
   ]
  },
  {
   "cell_type": "markdown",
   "metadata": {},
   "source": [
    "<img src=\"images/ensemble_1_results.png\">"
   ]
  },
  {
   "cell_type": "markdown",
   "metadata": {},
   "source": [
    "Some points to note from this model:\n",
    "    - We see that the loss is choppy and that it doesn't converge very effectively.\n",
    "    - The RMSE is generally higher than our first model."
   ]
  },
  {
   "cell_type": "markdown",
   "metadata": {},
   "source": [
    "**NOTE**: For detailed code and execution logs refer the below:\n",
    "- Specialists execution notebook: [Ensemble_1.ipynb](https://github.com/nishanth01/W207_Final_Project/blob/master/submission_files/notebooks/Ensemble_1.ipynb)"
   ]
  },
  {
   "cell_type": "markdown",
   "metadata": {},
   "source": [
    "### Model 3: 4 Layer LeNet + Pretraining + No data augmentation"
   ]
  },
  {
   "cell_type": "markdown",
   "metadata": {
    "collapsed": true
   },
   "source": [
    "This model uses model 2 as the pretrained model with every other parameter kept identical.\n",
    "We don't augment data in this training."
   ]
  },
  {
   "cell_type": "code",
   "execution_count": 12,
   "metadata": {
    "collapsed": true
   },
   "outputs": [],
   "source": [
    "def train_ensemble3(cols,model_number=2,epochs=10):\n",
    "\n",
    "    model_name = 'specialist_model_{0}_ensemble-{1}'.format(cols[0],model_number)\n",
    "    base_model_name = 'trained_models/specialist_model_{0}_ensemble-1'.format(cols[0])\n",
    "\n",
    "    start = 0.03\n",
    "    stop = 0.001\n",
    "    batch_size = 128\n",
    "\n",
    "    X, y = helper.load2d(cols=cols)\n",
    "    X, y = shuffle(X, y)\n",
    "    train_data, dev_data, train_labels, dev_labels = helper.get_split_data(X,y)\n",
    "    \n",
    "    model = helper.retrieve_model(base_model_name,weights=True)\n",
    "        \n",
    "    sgd = SGD(lr=start, momentum=0.9, nesterov=True)\n",
    "    model.compile(loss='mean_squared_error', optimizer=sgd)\n",
    "\n",
    "    early_stop = EarlyStopping(monitor='val_loss',patience=100)\n",
    "    learning_rates = np.linspace(start, stop, epochs)\n",
    "    change_lr = LearningRateScheduler(lambda epoch: float(learning_rates[epoch]))\n",
    "    \n",
    "    data =  model.fit(train_data, train_labels, \n",
    "                      batch_size = batch_size,\n",
    "                      epochs=epochs, \n",
    "                      validation_data=(dev_data, dev_labels),\n",
    "                      callbacks=[change_lr, early_stop])\n",
    "\n",
    "    helper.save_model(model,model_name)\n",
    "    helper.plot_model_performance(data)\n",
    "    helper.get_error(model,dev_data, dev_labels)\n",
    "    return model    "
   ]
  },
  {
   "cell_type": "markdown",
   "metadata": {},
   "source": [
    "The results of the training are as follows:"
   ]
  },
  {
   "cell_type": "markdown",
   "metadata": {},
   "source": [
    "<img src=\"images/ensemble_2_results.png\">"
   ]
  },
  {
   "cell_type": "markdown",
   "metadata": {},
   "source": [
    "We see some interesting behaviour here:\n",
    "    - Almost all the specialists stop early and don't learn much\n",
    "    - The RMSE is generally better than both our previous models despite the low learning"
   ]
  },
  {
   "cell_type": "markdown",
   "metadata": {},
   "source": [
    "**NOTE**: For detailed code and execution logs refer the below:\n",
    "- Specialists execution notebook: [Ensemble_2.ipynb](https://github.com/nishanth01/W207_Final_Project/blob/master/submission_files/notebooks/Ensemble_2.ipynb)"
   ]
  },
  {
   "cell_type": "markdown",
   "metadata": {},
   "source": [
    "### Model 4: 3 Layer LeNet + Pretraining + Data Augmentation (Blur, reflection)"
   ]
  },
  {
   "cell_type": "markdown",
   "metadata": {
    "collapsed": true
   },
   "source": [
    "In this model, we use a pretrained 3 layer LeNet model to train our specialists.In addition, we augment the data by blurring the images as well as randomly flipping batches of images."
   ]
  },
  {
   "cell_type": "markdown",
   "metadata": {},
   "source": [
    "To generate the flipped images, we extend the \"ImageDataGenerator\" class and provide an implementation for this.\n",
    "The process is as follows:\n",
    "- Take a batch of images\n",
    "- Randomly choose indices for a subset of images\n",
    "- Flip the images and add to existing dataset\n",
    "\n",
    "This is achieved using the following code:"
   ]
  },
  {
   "cell_type": "code",
   "execution_count": 13,
   "metadata": {
    "collapsed": true
   },
   "outputs": [],
   "source": [
    "class FlippedImageDataGenerator(ImageDataGenerator):\n",
    "    flip_indices = [\n",
    "        (0, 2), (1, 3),\n",
    "        (4, 8), (5, 9), (6, 10), (7, 11),\n",
    "        (12, 16), (13, 17), (14, 18), (15, 19),\n",
    "        (22, 24), (23, 25),\n",
    "        ]\n",
    "\n",
    "    def next(self):\n",
    "        X_batch, y_batch = super(FlippedImageDataGenerator, self).next()\n",
    "        batch_size = X_batch.shape[0]\n",
    "        indices = np.random.choice(batch_size, batch_size/2, replace=False)\n",
    "        X_batch[indices] = X_batch[indices, :, :, ::-1]\n",
    "\n",
    "        if y_batch is not None:\n",
    "            y_batch[indices, ::2] = y_batch[indices, ::2] * -1\n",
    "\n",
    "            for a, b in self.flip_indices:\n",
    "                y_batch[indices, a], y_batch[indices, b] = (\n",
    "                    y_batch[indices, b], y_batch[indices, a]\n",
    "                )\n",
    "\n",
    "        return X_batch, y_batch"
   ]
  },
  {
   "cell_type": "markdown",
   "metadata": {},
   "source": [
    "We then train our Base model first as depicted below:"
   ]
  },
  {
   "cell_type": "code",
   "execution_count": 14,
   "metadata": {
    "collapsed": true
   },
   "outputs": [],
   "source": [
    "def execute_pretrain_model4(epochs=1000):\n",
    "    start = 0.03\n",
    "    stop = 0.001\n",
    "    batch_size = 32\n",
    "    \n",
    "    dropout1 = 0.1\n",
    "    dropout2 = 0.2\n",
    "    dropout3 = 0.3\n",
    "    dropout4 = 0.4\n",
    "    \n",
    "    X, y = helper.load2d(blur=True)\n",
    "    train_data, dev_data, train_labels, dev_labels = helper.get_split_data(X,y)\n",
    "    \n",
    "    model = Sequential()\n",
    "\n",
    "    model.add(Conv2D(32, (3, 3), activation='relu', data_format = 'channels_first', input_shape=(1,96, 96)))\n",
    "    model.add(MaxPooling2D(pool_size=(2, 2),data_format = 'channels_first'))\n",
    "    model.add(Dropout(dropout1)) \n",
    "\n",
    "    model.add(Conv2D(64, (2, 2), activation='relu',data_format = 'channels_first'))\n",
    "    model.add(MaxPooling2D(pool_size=(2, 2),data_format = 'channels_first'))\n",
    "    model.add(Dropout(dropout2)) \n",
    "\n",
    "    model.add(Conv2D(128, (2, 2), activation='relu',data_format = 'channels_first'))\n",
    "    model.add(MaxPooling2D(pool_size=(2, 2),data_format = 'channels_first'))\n",
    "    model.add(Dropout(dropout3)) \n",
    "\n",
    "    model.add(Flatten())\n",
    "    model.add(Dense(500, activation='relu'))\n",
    "    model.add(Dropout(dropout4)) \n",
    "    model.add(Dense(500, activation='relu'))\n",
    "    model.add(Dense(30))\n",
    "\n",
    "    sgd = SGD(lr=start, momentum=0.9, nesterov=True,decay=1e-6)\n",
    "    model.compile(loss='mean_squared_error', optimizer=sgd)\n",
    "    \n",
    "    learning_rates = np.linspace(start, stop, epochs)\n",
    "    change_lr = LearningRateScheduler(lambda epoch: float(learning_rates[epoch]))\n",
    "    flipImage = FlippedImageDataGenerator()\n",
    "    reduce_lr = ReduceLROnPlateau(monitor='val_loss', factor=0.001,patience=30, min_lr=stop)\n",
    "    \n",
    "    data =  model.fit_generator(flipImage.flow(train_data, train_labels), \n",
    "                                steps_per_epoch=train_data.shape[0]/batch_size,\n",
    "                                epochs=epochs, \n",
    "                                validation_data=(dev_data, dev_labels),\n",
    "                                callbacks=[change_lr,reduce_lr])\n",
    "    \n",
    "    helper.plot_model_performance(data)\n",
    "    helper.get_error(model,dev_data, dev_labels)\n",
    "    helper.save_model(model,\"pretrain_model_3\")\n",
    "    return model"
   ]
  },
  {
   "cell_type": "markdown",
   "metadata": {},
   "source": [
    "The results of training the base model are as follows:"
   ]
  },
  {
   "cell_type": "markdown",
   "metadata": {},
   "source": [
    "<img src=\"images/model_4_base_results.png\">"
   ]
  },
  {
   "cell_type": "markdown",
   "metadata": {},
   "source": [
    "We now train the specialists based on the pretrained base model as follows:"
   ]
  },
  {
   "cell_type": "code",
   "execution_count": 15,
   "metadata": {
    "collapsed": true
   },
   "outputs": [],
   "source": [
    "def train_ensemble4(cols,model_number=3,epochs=10,flip_indices=None):\n",
    "\n",
    "    model_name = 'specialist_model_{0}_ensemble-{1}'.format(cols[0],model_number)\n",
    "    base_model_name = 'pretrain_model_3'\n",
    "\n",
    "    start = 0.03\n",
    "    stop = 0.001\n",
    "    batch_size = 64\n",
    "\n",
    "    X, y = helper.load2d(cols=cols,blur=True)\n",
    "    X, y = shuffle(X, y)\n",
    "    train_data, dev_data, train_labels, dev_labels = helper.get_split_data(X,y)\n",
    "    \n",
    "    model = helper.retrieve_model(base_model_name,weights=True)\n",
    "    helper.pop_layer(model)\n",
    "    model.add(Dense(len(cols),name=cols[0]))\n",
    "        \n",
    "    sgd = SGD(lr=start, momentum=0.9, nesterov=True,decay=1e-6)\n",
    "    model.compile(loss='mean_squared_error', optimizer=sgd)\n",
    "\n",
    "    early_stop = EarlyStopping(patience=300)\n",
    "    learning_rates = np.linspace(start, stop, epochs)\n",
    "    change_lr = LearningRateScheduler(lambda epoch: float(learning_rates[epoch]))\n",
    "    \n",
    "    flipImage = FlippedImageDataGenerator()\n",
    "    flipImage.flip_indices = flip_indices\n",
    "    \n",
    "    reduce_lr = ReduceLROnPlateau(monitor='val_loss', factor=0.001,patience=50, min_lr=stop)\n",
    "    \n",
    "    data =  model.fit_generator(flipImage.flow(train_data, train_labels), \n",
    "                                steps_per_epoch=train_data.shape[0]/batch_size,\n",
    "                                epochs=epochs, \n",
    "                                validation_data=(dev_data, dev_labels),\n",
    "                                callbacks=[change_lr, early_stop,reduce_lr])\n",
    "\n",
    "    helper.save_model(model,model_name)\n",
    "    helper.plot_model_performance(data)\n",
    "    helper.get_error(model,dev_data, dev_labels)\n",
    "    return model    "
   ]
  },
  {
   "cell_type": "markdown",
   "metadata": {},
   "source": [
    "The results of training the specialists are as follows:"
   ]
  },
  {
   "cell_type": "markdown",
   "metadata": {},
   "source": [
    "<img src=\"images/ensemble_3_results.png\">"
   ]
  },
  {
   "cell_type": "markdown",
   "metadata": {},
   "source": [
    "We notice the following from this training:\n",
    "    - we seem to be getting better RMSE scores compared to other models\n",
    "    - there are signs of overfitting since we incresed the early stop limit\n",
    "    - We get a good learning curve for the base model"
   ]
  },
  {
   "cell_type": "markdown",
   "metadata": {},
   "source": [
    "**NOTE**: For detailed code and execution logs refer the below:\n",
    "- Specialists execution notebook: [Ensemble_3.ipynb](https://github.com/nishanth01/W207_Final_Project/blob/master/submission_files/notebooks/Ensemble_3.ipynb)"
   ]
  },
  {
   "cell_type": "markdown",
   "metadata": {},
   "source": [
    "### Model 5:  3 Layer LeNet + Pretraining + Maxout + Data Augmentation(Blur, rotation)"
   ]
  },
  {
   "cell_type": "markdown",
   "metadata": {
    "collapsed": true
   },
   "source": [
    "In this model, we used a 3 layer LeNet like in the previous models but with 2 changes:\n",
    "\n",
    "1. We used maxout activation\n",
    "2. We used 1 fully connected layer with 1000 hidden nodes\n",
    "3. Momentum was adjusted per epoch\n",
    "\n",
    "This is achieved using the following code:"
   ]
  },
  {
   "cell_type": "code",
   "execution_count": null,
   "metadata": {
    "collapsed": true
   },
   "outputs": [],
   "source": [
    "def execute_pretrain_model5( epochs=1000, outFile=None):\n",
    "    \n",
    "    lr_start = 0.03\n",
    "    lr_stop = 0.0001\n",
    "    mom_start = .9\n",
    "    mom_stop = .999\n",
    "    batch_size = 64\n",
    "    nMaxOutWidth = 2\n",
    "    \n",
    "    X, y = helper.load2d(blur=True)\n",
    "    train_data, dev_data, train_labels, dev_labels = helper.get_split_data(X,y)\n",
    "    \n",
    "    modelInput = Input( shape=(1,96, 96))\n",
    "    \n",
    "    x= layers.maximum( [Conv2D(32, (3, 3), activation=None, padding='full', \\\n",
    "                               kernel_initializer=glorot_uniform())(modelInput) for _ in range( nMaxOutWidth)])\n",
    "    x = MaxPooling2D( pool_size=(2, 2))(x)\n",
    "    x = Dropout(0.2)(x)\n",
    "    \n",
    "    x = layers.maximum( [Conv2D(64, (2, 2), activation=None, kernel_initializer=glorot_uniform())(x) \\\n",
    "                         for _ in range( nMaxOutWidth)])\n",
    "    x = MaxPooling2D(pool_size=(2, 2))(x)\n",
    "    x = Dropout(0.2)(x)\n",
    "    \n",
    "    x= layers.maximum( [Conv2D(128, (2, 2), activation=None, kernel_initializer=glorot_uniform())(x) \\\n",
    "                        for _ in range( nMaxOutWidth)])\n",
    "    x = MaxPooling2D(pool_size=(2, 2))(x)\n",
    "    x = Dropout(0.3)(x)\n",
    "    \n",
    "    x = Flatten()(x)\n",
    "    maxDense = [ Dense(1000, activation=None, kernel_initializer=glorot_uniform())(x) for _ in range(nMaxOutWidth)]\n",
    "    x = layers.maximum( maxDense)\n",
    "    x = Dropout(0.5)(x)\n",
    "        \n",
    "    x = Dense(30)(x)\n",
    "    \n",
    "    model = Model(modelInput, x)\n",
    "    \n",
    "    sgd = SGD( lr=helper.float32(lr_start), momentum=mom_start, nesterov=True)\n",
    "    model.compile( loss='mean_squared_error', optimizer=sgd)\n",
    "    \n",
    "    early_stop = EarlyStopping(patience=200, verbose=2)\n",
    "    learning_rates = np.linspace(lr_start, lr_stop, epochs)\n",
    "    momentum_rates = np.linspace(mom_start, mom_stop, epochs)\n",
    "    change_lr = LearningRateScheduler(lambda epoch: float(learning_rates[epoch]))\n",
    "    change_mom = MomentumScheduler( lambda epoch: float(momentum_rates[epoch]))\n",
    "    imageGen = ModifiedImageDataGenerator()\n",
    "    \n",
    "    data =  model.fit_generator( imageGen.flow( train_data, train_labels, batch_size), \n",
    "                                 steps_per_epoch=train_data.shape[0] / batch_size,\n",
    "                                 epochs=epochs, \n",
    "                                 validation_data=(dev_data, dev_labels),\n",
    "                                 callbacks=[ change_lr, change_mom, early_stop],\n",
    "                                 initial_epoch=0)\n",
    "\n",
    "    helper.plot_model_performance(data)\n",
    "    helper.get_error(model,dev_data, dev_labels)\n",
    "    helper.save_model(model, outFile)\n",
    "    \n",
    "    return model, data\n"
   ]
  },
  {
   "cell_type": "markdown",
   "metadata": {},
   "source": [
    "The results of training the base model are as follows:"
   ]
  },
  {
   "cell_type": "markdown",
   "metadata": {},
   "source": [
    "<img src=\"images/MaxoutPretrain.png\">"
   ]
  },
  {
   "cell_type": "markdown",
   "metadata": {},
   "source": [
    "We now train the specialists based on the pretrained base model as follows:\n",
    "\n",
    "(One thing to note, due to the increased size of the model, several changes had to be made to keep the GPU from running out of memory. They are reflected below.)"
   ]
  },
  {
   "cell_type": "code",
   "execution_count": null,
   "metadata": {
    "collapsed": true
   },
   "outputs": [],
   "source": [
    "def train_ensemble5( startWeightFile, epochs=1000):\n",
    "    lr_start = 0.03\n",
    "    lr_stop = 0.0001\n",
    "    mom_start = .9\n",
    "    mom_stop = .999\n",
    "    batch_size = 64\n",
    "    layerName = \"special_\"\n",
    "    layerID = 0\n",
    "    \n",
    "    model = helper.retrieve_model( startWeightFile, weights=False)\n",
    "    \n",
    "    for setting in helper.SPECIALIST_SETTINGS:\n",
    "        cols = setting['columns']\n",
    "        \n",
    "        X, y = helper.load2d(cols=cols, blur=True)\n",
    "        train_data, dev_data, train_labels, dev_labels = helper.get_split_data(X,y)\n",
    "        \n",
    "        model.load_weights( startWeightFile +'_weights.h5')\n",
    "        \n",
    "        # pop off the last layer and add on the new one - layer names must always be unique\n",
    "        helper.pop_layer( model)\n",
    "        newOutput = Dense(len(cols), name=layerName+str(layerID))(model.layers[-1].output)\n",
    "        model = Model( model.input, newOutput)\n",
    "        layerID += 1\n",
    "        \n",
    "        sgd = SGD(lr=helper.float32(lr_start), momentum=mom_start, nesterov=True)\n",
    "        model.compile(loss='mean_squared_error', optimizer=sgd)\n",
    "        \n",
    "        early_stop = EarlyStopping( patience=100)\n",
    "        learning_rates = np.linspace( lr_start, lr_stop, epochs)\n",
    "        change_lr = LearningRateScheduler( lambda epoch: float(learning_rates[epoch]))\n",
    "        momentum_rates = np.linspace( mom_start, mom_stop, epochs)\n",
    "        change_mom = MomentumScheduler( lambda epoch: float(momentum_rates[epoch]))\n",
    "        imageGen = ModifiedImageDataGenerator()\n",
    "        \n",
    "        print 'Training model for columns {0} for {1} epochs'.format(cols, epochs)\n",
    "        flipgen_batch_iter = FlipGenerator()\n",
    "        imageGen.flip_indices = setting['flip_indices']\n",
    "    \n",
    "        data =  model.fit_generator( imageGen.flow( train_data, train_labels, batch_size), \n",
    "                                     steps_per_epoch=train_data.shape[0] / batch_size,\n",
    "                                     epochs=epochs, \n",
    "                                     validation_data=(dev_data, dev_labels),\n",
    "                                     callbacks=[ change_lr, change_mom, early_stop],\n",
    "                                     initial_epoch=0)\n",
    "        \n",
    "        helper.save_model(model,'specialist_model_fullmax2_SingleDense1000_Blur_{0}'.format(cols[0]))\n",
    "        helper.plot_model_performance(data)\n",
    "        helper.get_error(model,dev_data, dev_labels)\n",
    "                \n",
    "        # set model up for next run\n",
    "        helper.pop_layer( model)\n",
    "        newOutput = Dense(30, name=layerName+str(layerID))(model.layers[-1].output)\n",
    "        model = Model( model.input, newOutput)\n",
    "        layerID += 1\n",
    "        \n",
    "    "
   ]
  },
  {
   "cell_type": "markdown",
   "metadata": {},
   "source": [
    "We see the following results for the specialists:"
   ]
  },
  {
   "cell_type": "markdown",
   "metadata": {},
   "source": [
    "<img src=\"images/maxout_specialists.png\">"
   ]
  },
  {
   "cell_type": "markdown",
   "metadata": {},
   "source": [
    "We notice the following from this training:\n",
    "    - improved RMSE of specialists\n",
    "    - there are signs of overfitting in some of the models maybe due to using the same dropout for each fit\n",
    "    - base model has greatly improved RMSE"
   ]
  },
  {
   "cell_type": "markdown",
   "metadata": {},
   "source": [
    "### Model 6: 3 Layer LeNet + Pretraining + SReLU + Data Augmentation (Blur, reflection,rotation)"
   ]
  },
  {
   "cell_type": "markdown",
   "metadata": {
    "collapsed": true
   },
   "source": [
    "In this model, we use a 3 layer LeNet like the previous models but with 2 changes.\n",
    "\n",
    "1. We use S-shaped ReLU in the fully connected layers\n",
    "2. We randomaly rotate images by 10 degrees either clockwise or anticlockwise."
   ]
  },
  {
   "cell_type": "markdown",
   "metadata": {},
   "source": [
    "For data augmentation, we use the image generator like we did in model 4.We follow the below process:\n",
    "\n",
    "1. Take a batch of images\n",
    "2. Randomly choose indices for a subset of images\n",
    "3. Flip the images and add to existing dataset\n",
    "4. Randomly choose indices for a subset of images\n",
    "5. Rotate the images either clockwise or anticlockwise and add to existing dataset\n",
    "\n",
    "The code is as follows:\n"
   ]
  },
  {
   "cell_type": "code",
   "execution_count": 16,
   "metadata": {
    "collapsed": true
   },
   "outputs": [],
   "source": [
    "class ModifiedImageDataGenerator(ImageDataGenerator):\n",
    "    flip_indices = [\n",
    "        (0, 2), (1, 3),\n",
    "        (4, 8), (5, 9), (6, 10), (7, 11),\n",
    "        (12, 16), (13, 17), (14, 18), (15, 19),\n",
    "        (22, 24), (23, 25),\n",
    "        ]\n",
    "\n",
    "    def next(self):\n",
    "        X_batch, y_batch = super(ModifiedImageDataGenerator, self).next()\n",
    "        X_batch, y_batch = flip_image(X_batch, y_batch)\n",
    "        X_batch, y_batch = rotate_batch(X_batch, y_batch)\n",
    "        \n",
    "        return X_batch, y_batch\n",
    "\n",
    "    \n",
    "    def flip_batch(X_batch, y_batch):\n",
    "        batch_size = X_batch.shape[0]\n",
    "        indices = np.random.choice(batch_size, batch_size/2, replace=False)\n",
    "        X_batch[indices] = X_batch[indices, :, :, ::-1]\n",
    "\n",
    "        if y_batch is not None:\n",
    "            y_batch[indices, ::2] = y_batch[indices, ::2] * -1\n",
    "\n",
    "            for a, b in self.flip_indices:\n",
    "                y_batch[indices, a], y_batch[indices, b] = (\n",
    "                    y_batch[indices, b], y_batch[indices, a]\n",
    "                )\n",
    "        return X_batch, y_batch\n",
    "\n",
    "    def rotate_batch(X_batch, y_batch):\n",
    "        theta = 10\n",
    "        batch_size = X_batch.shape[0]\n",
    "        indices = np.random.choice(batch_size, batch_size/2, replace=False)\n",
    "        for i in indices:\n",
    "            if i/2 == 0:\n",
    "                X_batch[i][0], y_batch[i] = rotate_image(X_batch[i][0],y_batch[i],theta)\n",
    "            else:\n",
    "                X_batch[i][0], y_batch[i] = rotate_image(X_batch[i][0],y_batch[i],-theta)\n",
    "\n",
    "        return X_batch, y_batch  \n",
    "    \n",
    "    def rotate_image(X,y,theta):\n",
    "        image = rotate(X, theta, reshape=False)\n",
    "        labels = rotate_keypoints(X,y,-theta)\n",
    "        return image,labels\n",
    "\n",
    "    def rotate_keypoints(X,y,theta):\n",
    "        centre=0.5*np.array(X.shape)\n",
    "        a=theta*pi/180.0\n",
    "\n",
    "        ox = centre[0]\n",
    "        oy = centre[1]\n",
    "        px = y[0::2] * 48 + 48\n",
    "        py = y[1::2] * 48 + 48\n",
    "\n",
    "        qx = ox + cos(a) * (px - ox) - sin(a) * (py - oy)\n",
    "        qy = oy + sin(a) * (px - ox) + cos(a) * (py - oy)    \n",
    "\n",
    "        final = np.empty((qx.size + qy.size,), dtype=qx.dtype)\n",
    "        final[0::2] = (qx-48)/48\n",
    "        final[1::2] = (qy-48)/48 \n",
    "        return final\n"
   ]
  },
  {
   "cell_type": "markdown",
   "metadata": {},
   "source": [
    "We now train the base model as follows:"
   ]
  },
  {
   "cell_type": "code",
   "execution_count": 17,
   "metadata": {
    "collapsed": true
   },
   "outputs": [],
   "source": [
    "def execute_pretrain_model(epochs=1000):\n",
    "    start = 0.03\n",
    "    stop = 0.001\n",
    "    batch_size = 32\n",
    "    \n",
    "    dropout1 = 0.1\n",
    "    dropout2 = 0.2\n",
    "    dropout3 = 0.3\n",
    "    dropout4 = 0.4\n",
    "    \n",
    "    X, y = helper.load2d(blur=True)\n",
    "    train_data, dev_data, train_labels, dev_labels = helper.get_split_data(X,y)\n",
    "    \n",
    "    model = Sequential()\n",
    "\n",
    "    model.add(Conv2D(32, (3, 3), activation='relu', data_format = 'channels_first', input_shape=(1,96, 96)))\n",
    "    model.add(MaxPooling2D(pool_size=(2, 2),data_format = 'channels_first'))\n",
    "    model.add(Dropout(dropout1)) \n",
    "\n",
    "    model.add(Conv2D(64, (2, 2), activation='relu',data_format = 'channels_first'))\n",
    "    model.add(MaxPooling2D(pool_size=(2, 2),data_format = 'channels_first'))\n",
    "    model.add(Dropout(dropout2)) \n",
    "\n",
    "    model.add(Conv2D(128, (2, 2), activation='relu',data_format = 'channels_first'))\n",
    "    model.add(MaxPooling2D(pool_size=(2, 2),data_format = 'channels_first'))\n",
    "    model.add(Dropout(dropout3)) \n",
    "\n",
    "    \n",
    "    \n",
    "    model.add(Flatten())\n",
    "    model.add(Dense(500))\n",
    "    model.add(SReLU())\n",
    "    model.add(Dropout(dropout4)) \n",
    "    model.add(Dense(500))\n",
    "    model.add(SReLU())\n",
    "    model.add(Dense(30))\n",
    "\n",
    "    sgd = SGD(lr=start, momentum=0.9, nesterov=True,decay=1e-6)\n",
    "    model.compile(loss='mean_squared_error', optimizer=sgd)\n",
    "    \n",
    "    learning_rates = np.linspace(start, stop, epochs)\n",
    "    change_lr = LearningRateScheduler(lambda epoch: float(learning_rates[epoch]))\n",
    "    imageGen = ModifiedImageDataGenerator()\n",
    "    reduce_lr = ReduceLROnPlateau(monitor='val_loss', factor=0.001,patience=30, min_lr=stop)\n",
    "    \n",
    "    data =  model.fit_generator(imageGen.flow(train_data, train_labels), \n",
    "                                steps_per_epoch=train_data.shape[0]/batch_size,\n",
    "                                epochs=epochs, \n",
    "                                validation_data=(dev_data, dev_labels),\n",
    "                                callbacks=[change_lr,reduce_lr])\n",
    "    \n",
    "    helper.plot_model_performance(data)\n",
    "    helper.get_error(model,dev_data, dev_labels)\n",
    "    model.save(\"pretrain_model_4.h5\")\n",
    "    #helper.save_model(model,\"pretrain_model_4\")\n",
    "    return model"
   ]
  },
  {
   "cell_type": "markdown",
   "metadata": {},
   "source": [
    "We see the following results for the base model:"
   ]
  },
  {
   "cell_type": "markdown",
   "metadata": {},
   "source": [
    "<img src=\"images/model_6_base_results.png\">"
   ]
  },
  {
   "cell_type": "markdown",
   "metadata": {},
   "source": [
    "We now train the specialists based on our base model as follows:"
   ]
  },
  {
   "cell_type": "code",
   "execution_count": 18,
   "metadata": {
    "collapsed": true
   },
   "outputs": [],
   "source": [
    "def train_ensemble(cols,model_number=3,epochs=10,flip_indices=None):\n",
    "\n",
    "    model_name = 'specialist_model_{0}_ensemble-{1}.h5'.format(cols[0],model_number)\n",
    "    base_model_name = 'pretrain_model_4.h5'\n",
    "\n",
    "    start = 0.03\n",
    "    stop = 0.001\n",
    "    batch_size = 64\n",
    "\n",
    "    X, y = helper.load2d(cols=cols,blur=True)\n",
    "    X, y = shuffle(X, y)\n",
    "    train_data, dev_data, train_labels, dev_labels = helper.get_split_data(X,y)\n",
    "    \n",
    "    model = load_model(base_model_name)#helper.retrieve_model(base_model_name,weights=True)\n",
    "    helper.pop_layer(model)\n",
    "    model.add(Dense(len(cols),name=cols[0]))\n",
    "        \n",
    "    sgd = SGD(lr=start, momentum=0.9, nesterov=True,decay=1e-6)\n",
    "    model.compile(loss='mean_squared_error', optimizer=sgd)\n",
    "\n",
    "    early_stop = EarlyStopping(patience=500)\n",
    "    learning_rates = np.linspace(start, stop, epochs)\n",
    "    change_lr = LearningRateScheduler(lambda epoch: float(learning_rates[epoch]))\n",
    "    \n",
    "    imageGen = ModifiedImageDataGenerator()\n",
    "    imageGen.flip_indices = flip_indices\n",
    "    \n",
    "    reduce_lr = ReduceLROnPlateau(monitor='val_loss', factor=0.001,patience=50, min_lr=stop)\n",
    "    \n",
    "    data =  model.fit_generator(imageGen.flow(train_data, train_labels), \n",
    "                                steps_per_epoch=train_data.shape[0]/batch_size,\n",
    "                                epochs=epochs, \n",
    "                                validation_data=(dev_data, dev_labels),\n",
    "                                callbacks=[change_lr,early_stop,reduce_lr])\n",
    "\n",
    "    #helper.save_model(model,model_name)\n",
    "    model.save(model_name)\n",
    "    helper.plot_model_performance(data)\n",
    "    helper.get_error(model,dev_data, dev_labels)\n",
    "    return model  "
   ]
  },
  {
   "cell_type": "markdown",
   "metadata": {},
   "source": [
    "We see the following results for the specialists:"
   ]
  },
  {
   "cell_type": "markdown",
   "metadata": {},
   "source": [
    "<img src=\"images/ensemble_5_results.png\">"
   ]
  },
  {
   "cell_type": "markdown",
   "metadata": {
    "collapsed": true
   },
   "source": [
    "**NOTE**: For detailed code and execution logs refer the below:\n",
    "- Specialists execution notebook: [Ensemble_4.ipynb](https://github.com/nishanth01/W207_Final_Project/blob/master/submission_files/notebooks/Ensemble_4.ipynb)"
   ]
  },
  {
   "cell_type": "markdown",
   "metadata": {},
   "source": [
    "### Model 7: 5 Layer LeNet + No Pretraining + No data augmentation"
   ]
  },
  {
   "cell_type": "markdown",
   "metadata": {},
   "source": [
    "For this model we used 5 layers of convolutional layer and 5 layers of fully connected layers. In convolutional layers we used ReLu activation for enhancing sparse representation, in the dense layers we used sigmoid activation. For each of the convolutional layer, the sequence looks like follows: \n",
    "\n",
    "1. CONV2D: the input with a 4D tensor format (# of records, depth, 96, 96) goes through conv 2D with 5 by 5 filters (# of filters, depth, 5, 5). This produces feature maps with shape (# of filters, 96, 96). Note that the convolution has done in a mode there input edges have added padding, thus it produces the same 96 by 96 feature maps. \n",
    "2. Pooling: the feature map tensor then goes through a 2 by 2 max pooling, this reduces number of parameters in feature maps. 96 -> 48 -> ...\n",
    "3. Dropout: with probability of 20%, parameters will be randomly selected to be reset to 0 at each convolutional layer. This is to prevent overfitting by methods similar to bagging.\n",
    "\n",
    "For the fully connected dense layers, each hidden layer contains 600 nodes. Since the task is to predict keypoint position, the ouput is continuous rather than clssification output. The final output is the dot product of previous layer sigmoid ouput and the final layer weights. Each of the prediction then marks the position of the facial keypoints.\n",
    "\n",
    "Overall, we found that different keypoints has different number of observations. If we are to train a single model, then there's only 2140 complete records available. In this model, we train facial keypoint sets specialist ensembles. That is to say, for similar facial keypoints (e.g. left eye left corner and left eye right corner), we train a single convolutional neural net for it. The facial keypoint sets are: eye center, eye corner, eyebrow, nose, mouth corner, mouth center top, mouth center bottom, separated mostly based on the number of observations available and proximity. "
   ]
  },
  {
   "cell_type": "markdown",
   "metadata": {},
   "source": [
    "The following piece of code prepares training and dev data. \n",
    "1. load raw dataframe and separate training and dev examples\n",
    "2. normalize pixel value and keypoint positions\n",
    "3. subset different keypoint observations into training & dev set for specialist CNNs\n",
    "4. reshape the dataset into 4D tensor format"
   ]
  },
  {
   "cell_type": "code",
   "execution_count": 19,
   "metadata": {
    "collapsed": true
   },
   "outputs": [],
   "source": [
    "TRAIN = \"../../../data/facial_keypoints/training.csv\"\n",
    "TEST = \"../../../data/facial_keypoints/test.csv\"\n",
    "\n",
    "def prepare_data(TRAIN):\n",
    "    rawdata = cnn_helper.load_data(TRAIN)\n",
    "    X, Y = cnn_helper.loadXY(rawdata)\n",
    "    num_dev = int(len(X)/7)\n",
    "    train_data, train_labels = X[num_dev:], Y[num_dev:]\n",
    "    dev_data, dev_labels = X[:num_dev], Y[:num_dev]\n",
    "\n",
    "    full_keypoints = (rawdata.columns.values).tolist()[:-1]\n",
    "    cols_dict = cnn_helper.cols_dict\n",
    "    train_data_sep = [0 for i in cols_dict.keys()]\n",
    "    train_labels_sep = [0 for i in cols_dict.keys()]\n",
    "    for i, key in enumerate(cols_dict.keys()):\n",
    "        train_data_sep[i], train_labels_sep[i] = cnn_helper.subset_data(train_data,\n",
    "                                                                        train_labels,\n",
    "                                                                        full_keypoints,\n",
    "                                                                        cols_dict[key])\n",
    "    \n",
    "    dev_data_sep = [0 for i in cols_dict.keys()]\n",
    "    dev_labels_sep = [0 for i in cols_dict.keys()]\n",
    "    for i, key in enumerate(cols_dict.keys()):\n",
    "        dev_data_sep[i], dev_labels_sep[i] = cnn_helper.subset_data(dev_data,\n",
    "                                                                    dev_labels,\n",
    "                                                                    full_keypoints,\n",
    "                                                                    cols_dict[key])\n",
    "\n",
    "    for i in range(len(train_data_sep)):\n",
    "        train_data_sep[i] = cnn_helper.load_2d_images(train_data_sep[i], 96)\n",
    "        dev_data_sep[i] = cnn_helper.load_2d_images(dev_data_sep[i], 96)\n",
    "    return train_data_sep, train_labels_sep, dev_data_sep, dev_labels_sep\n",
    "\n",
    "#train_data_sep, train_labels_sep, dev_data_sep, dev_labels_sep = prepare_data(TRAIN)"
   ]
  },
  {
   "cell_type": "markdown",
   "metadata": {},
   "source": [
    "The following part builds and trains the specialist CNN models for each of the facial keypoint groups. It uses the conv net helper python module that we implemented. The helper python module allows us to specify the hyperparameters (Conv layers, feature maps, dropout ...) and returns a set of initialized CNN models. During training, we call the SGD method, specify the learning rate schedule and update rule, the helper will return the training result and evaluation result on dev sets per epoch. Check out [conv_net_help.py](https://github.com/nishanth01/W207_Final_Project/blob/master/submission_files/conv_net_helper.py)"
   ]
  },
  {
   "cell_type": "code",
   "execution_count": 20,
   "metadata": {
    "collapsed": true
   },
   "outputs": [],
   "source": [
    "def train_model7(train_data_sep, train_labels_sep, dev_data_sep, dev_labels_sep):\n",
    "    numModels = len(train_data_sep)\n",
    "    cnns = [0. for i in range(numModels)]\n",
    "    \n",
    "    ## Create specialist CNN models for each of the keypoint sets\n",
    "    ## - filter size: 5 * 5\n",
    "    ## - # of feature maps for each conv layer: 32,64,128,256,512\n",
    "    ## - # of hidden nodes in dense layer: 600\n",
    "    ## - # of dense layer: 5\n",
    "    for i in range(numModels):\n",
    "        numClasses = train_labels_sep[i][1].size\n",
    "        cnns[i] = cnn_helper.convNetBuilder(numClasses, patchSize = [5,5], \n",
    "                                       featureMapLayers = [32,64,128,256,512],\n",
    "                                       numHiddenNodes = 600, numNNLayer = 5,\n",
    "                                       imageWidth = 96, poolingSize = 2,\n",
    "                                       train_dropout_rate = [0.2,0.5])\n",
    "\n",
    "    train_result = [ [] for i in range(numModels) ]\n",
    "    val_result = [ [] for i in range(numModels) ]\n",
    "    model_name = [\"eye center\", \"eye corner\", \"eyebrow\", \"nose\",\n",
    "                  \"mouth corner\", \"mouth center top\", \"mouth center bottom\"]\n",
    "\n",
    "    ## Define number of epochs and learning rate schedules\n",
    "    rounds = 1000\n",
    "    alpha_schedule = np.linspace(0.3, 0.0001, rounds)\n",
    "    \n",
    "    ## training via SGD and store training and dev validation results\n",
    "    for i, model in enumerate(cnns):\n",
    "        print(\"\\n ======================================================\")\n",
    "        print(\"CNN Model\", (i+1), \" - \", model_name[i], \"keypoint prediction\")\n",
    "        train_result[i] , val_result[i] = model.SGD(train_data_sep[i], train_labels_sep[i],\n",
    "                                                    update_rule = \"rmsprop\",\n",
    "                                                    epochs = rounds, \n",
    "                                                    miniBatchSize = 10,\n",
    "                                                    learningRateSchedule = alpha_schedule,\n",
    "                                                    validation = [dev_data_sep[i],\n",
    "                                                                  dev_labels_sep[i]]\n",
    "                                                   )\n",
    "    return cnns, train_result, val_result\n",
    "\n",
    "\n",
    "#mod7, mod7_train_result, mod7_val_result = train_model7(train_data_sep,\n",
    "#                                                        train_labels_sep,\n",
    "#                                                        dev_data_sep,\n",
    "#                                                        dev_labels_sep)"
   ]
  },
  {
   "cell_type": "markdown",
   "metadata": {},
   "source": [
    "It turns out the 5 layer model with self written class based on Theano trains extremely slow. Thus below we showed a different approach with Keras. The training time for Keras Sequencial models is 5 times less than that of Theano self built models. For more about this check out [Deep CNN Specialists](https://github.com/jeffrey-hsu/models/blob/master/facial_keypoints/Specialist_Deep_CNNs.ipynb)\n",
    "\n",
    "#### 5 Layer LeNet Pretraining \n",
    "\n",
    "The following part builds a pretrained model for all keypoints. The model is 5 layers LeNet with ReLu as activation and glorot uniform weight initialization. Early stopping, Nesterov momentum and dropout are applied to help with generalization. The images are based on original images without blurring, rotation or flipping. That can be enhancement for a CNN with more layers as future work as well."
   ]
  },
  {
   "cell_type": "code",
   "execution_count": null,
   "metadata": {
    "collapsed": true
   },
   "outputs": [],
   "source": [
    "def pretrain_model(epochs, train_data, train_labels, dev_data, dev_labels):\n",
    "    start = 0.03\n",
    "    stop = 0.001\n",
    "    batch_size = 128\n",
    "    \n",
    "    model = Sequential()\n",
    "    \n",
    "    ## 1st Conv Layer - Input\n",
    "    model.add( Conv2D( 32, (3, 3), padding='valid', activation='relu',\n",
    "                       data_format = 'channels_first',\n",
    "                       kernel_initializer=glorot_uniform(),\n",
    "                       input_shape=(1,96, 96) ))\n",
    "    model.add( MaxPooling2D(pool_size=(2, 2), data_format = 'channels_first'))\n",
    "    model.add( Dropout(np.cast['float32'](0.1)))  \n",
    "    \n",
    "    ## 2nd Conv Layer\n",
    "    model.add( Conv2D( 64, (2, 2), padding='valid', activation='relu',\n",
    "                       data_format = 'channels_first', \n",
    "                       kernel_initializer=glorot_uniform() ))\n",
    "    model.add(MaxPooling2D(pool_size=(2, 2), data_format = 'channels_first'))\n",
    "    model.add(Dropout(np.cast['float32'](0.2))) \n",
    "\n",
    "    ## 3rd Conv Layer\n",
    "    model.add( Conv2D( 128, (2, 2), padding='valid', activation='relu',\n",
    "                       data_format = 'channels_first', \n",
    "                       kernel_initializer=glorot_uniform() ))\n",
    "    model.add(MaxPooling2D(pool_size=(2, 2), data_format = 'channels_first'))\n",
    "    model.add(Dropout(np.cast['float32'](0.3)))  \n",
    "    \n",
    "    ## 4th Conv Layer\n",
    "    model.add( Conv2D( 256, (2, 2), padding='valid', activation='relu',\n",
    "                       data_format = 'channels_first', \n",
    "                       kernel_initializer=glorot_uniform() ))\n",
    "    model.add(MaxPooling2D(pool_size=(2, 2), data_format = 'channels_first'))\n",
    "    model.add(Dropout(np.cast['float32'](0.3))) \n",
    "    \n",
    "    ## 5th Conv Layer\n",
    "    model.add( Conv2D( 512, (2, 2), padding='valid', activation='relu',\n",
    "                       data_format = 'channels_first',\n",
    "                       kernel_initializer=glorot_uniform() ))\n",
    "    model.add(MaxPooling2D(pool_size=(2, 2),data_format = 'channels_first'))\n",
    "    model.add(Dropout(np.cast['float32'](0.3)))\n",
    "    \n",
    "    ## Flatten\n",
    "    model.add(Flatten())\n",
    "    \n",
    "    ## Dense Layers\n",
    "    model.add(Dense(600, activation='relu'))\n",
    "    model.add(Dropout(np.cast['float32'](0.4))) \n",
    "    model.add(Dense(600, activation='relu'))\n",
    "    model.add(Dropout(np.cast['float32'](0.4))) \n",
    "    model.add(Dense(600, activation='relu'))\n",
    "    model.add(Dropout(np.cast['float32'](0.4))) \n",
    "    model.add(Dense(600, activation='relu'))\n",
    "    model.add(Dense(30))\n",
    "    \n",
    "    rmsprop = RMSprop(lr=np.cast['float32'](0.01), rho=0.9, epsilon=1e-08, decay=0.0)\n",
    "    sgd = SGD(lr=np.cast['float32'](0.01) , momentum=0.9, nesterov=True)\n",
    "    model.compile(loss='mean_squared_error', optimizer=sgd)\n",
    "    \n",
    "    early_stop = EarlyStopping(patience=100)\n",
    "    learning_rates = np.linspace(start, stop, epochs)\n",
    "    change_lr = LearningRateScheduler(lambda epoch: float(learning_rates[epoch]))\n",
    "    \n",
    "    data =  model.fit( train_data, train_labels, \n",
    "                       batch_size = batch_size,\n",
    "                       epochs=epochs, \n",
    "                       validation_data=(dev_data, dev_labels),\n",
    "                       callbacks=[change_lr, early_stop] )\n",
    "    \n",
    "    \n",
    "    plot_model_performance(data)\n",
    "    helper.save_model(model, \"5Layer_CNN_Pretrain_Model\")\n",
    "    return model"
   ]
  },
  {
   "cell_type": "markdown",
   "metadata": {},
   "source": [
    "This is the result of a 5 layer CNN trained on all keypoints (general model). This is used as pretrained model for further 5 layer CNN specialist models.\n",
    "<img src='images/model_7_base_results.PNG' width=\"400\" align=\"center\">"
   ]
  },
  {
   "cell_type": "markdown",
   "metadata": {},
   "source": [
    "#### 5 Layer LeNet Specialist Models\n",
    "\n",
    "Then we took the pretrained 5 layer model and then train each keypoint specialist models. Each model is still the 5 Layer LeNet with same activation, the difference is we changed the output layer to fit the keypoint sets expected. The specialists are: \n",
    "\n",
    "- eye center\n",
    "- nose\n",
    "- mouth\n",
    "- mouth bottom\n",
    "- eye corner\n",
    "- eyebrow"
   ]
  },
  {
   "cell_type": "code",
   "execution_count": null,
   "metadata": {
    "collapsed": true
   },
   "outputs": [],
   "source": [
    "def train_specialist(keypoints_name, cols, \n",
    "                     epochs = 200 , start = 0.005, stop = 0.0001,\n",
    "                     prefix = '5Layer_CNN_Specialist_Model',\n",
    "                     batch_size = 128,\n",
    "                     saved_model = None):\n",
    "    \n",
    "    print('Training model for columns {0} for {1} epochs'.format(cols, epochs))\n",
    "    X, Y = helper.load2d(cols=cols)\n",
    "    train_data, dev_data, train_labels, dev_labels = helper.get_split_data(X,Y)\n",
    "    model_name = '{0}_{1}'.format(prefix, keypoints_name)\n",
    "    \n",
    "    use_pre = True\n",
    "    if saved_model is not None:\n",
    "        if os.path.isfile(saved_model):\n",
    "            print('Weights saved')\n",
    "            use_pre = False\n",
    "        else:\n",
    "            print('NO Saved weights available')\n",
    "    else:\n",
    "        print('NO Saved weights available')\n",
    "        \n",
    "    model = helper.retrieve_model('5Layer_CNN_Pretrain_Model', weights=use_pre)\n",
    "    helper.pop_layer(model)\n",
    "    model.add(Dense(len(cols),name=cols[0]))\n",
    "    \n",
    "    if not use_pre:\n",
    "        print('Loading saved weights...')\n",
    "        model.load_weights(saved_model)\n",
    "    \n",
    "    rmsprop = RMSprop(lr=np.cast['float32'](0.01), rho=0.9, epsilon=1e-08, decay=0.0)\n",
    "    sgd = SGD(lr=np.cast['float32'](0.01), momentum=0.9, nesterov=True)\n",
    "    model.compile(loss='mean_squared_error', optimizer=sgd)\n",
    "\n",
    "    early_stop = EarlyStopping(monitor='val_loss', patience=100)\n",
    "    learning_rates = np.linspace(start, stop, epochs)\n",
    "    change_lr = LearningRateScheduler(lambda epoch: float(learning_rates[epoch]))\n",
    "    \n",
    "    path = model_name + \"_weights_epoch-{epoch:02d}.h5\"  \n",
    "    check_point = ModelCheckpoint(path, period=100, verbose=1) \n",
    "\n",
    "    data =  model.fit(train_data, train_labels, \n",
    "                      batch_size = batch_size,\n",
    "                      epochs=epochs, \n",
    "                      validation_data=(dev_data, dev_labels),\n",
    "                      callbacks=[change_lr, early_stop, check_point])\n",
    "\n",
    "    helper.save_model(model,model_name)\n",
    "    helper.plot_model_performance(data)\n",
    "    #helper.get_error(model,dev_data, dev_labels)\n",
    "    return model    "
   ]
  },
  {
   "cell_type": "markdown",
   "metadata": {},
   "source": [
    "The 5 layer LeNet model did not perform better than 3 layer LeNet with data augmentations. Typically, the model with Maxout and data augmentation performs better than this. Since the boost of performance is not seen, this model has not been incorporated in the ensemble models.\n",
    "\n",
    "The training time for a single 5 layer LeNet is much higher than smaller models. In order to enhance the performance of this model, further works on using data augmentation, different gradient descent rules and learning rate schedules need to be explored. For doing a grid search on CNN of this size, it will take much more time on GPU to complete. Further work can explore the possibilities of this."
   ]
  },
  {
   "cell_type": "markdown",
   "metadata": {},
   "source": [
    "## V. Results and Summary"
   ]
  },
  {
   "cell_type": "markdown",
   "metadata": {
    "collapsed": true
   },
   "source": [
    "Below are the scores obtained for the various models:"
   ]
  },
  {
   "cell_type": "markdown",
   "metadata": {},
   "source": [
    "| model | Description | Kaggle RMSE (Private) | Kaggle RMSE (Public) | Approx Rank (Public) |\n",
    "|--------------|---------------------------------------------------------------------|-----------------------|----------------------|----------------------|\n",
    "| Model 1      | - 3 layer LeNet+Pre-trained+ No Data Augmentation | 2.13 | 2.43 | ~48 |\n",
    "| Model 2 | - 4 Layer LeNet+No Pretraining+No Data Augmentation | 2.25 | 2.45 | ~48 |\n",
    "| Model 3 | - Pretrained on Model 2+No Data Augmentation | 2.19 | 2.42 | ~48 |\n",
    "| Model 4 | - 3 Layer LeNet+Pre-trained+ Blur, Reflection | 1.83 | 2.23 | ~33 |\n",
    "| Model 5 | - 3 Layer LeNet+Pre-trained+ Maxout + Blur, Reflection | 1.81 | 2.10 | ~14 |\n",
    "| Model 6  | - 3 Layer LeNet+Pretrained + SReLU +Blur,Reflection,Rotate | 1.94 | 2.26 | ~33 |\n"
   ]
  },
  {
   "cell_type": "markdown",
   "metadata": {},
   "source": [
    "Here are some of the observations based on the results we have:\n",
    "- Adding more layers requires more training.We see this difference between models 1 and 2 where we use the same number of epochs and model 2 performs worse despite adding an additional layer\n",
    "- Data augmentation has a huge impact on performance.Just by augmenting the data, we drop from a rank of 48 to 33\n",
    "- Adding S shaped rectified linear units didnt seem to make much difference in performance.By adding more layers and training we can speculate an improvement.\n",
    "- We see a huge improvement by using maxout layers, having a more dense fully connected layer and additional training on the base model.The rank improves from 33 to 14"
   ]
  },
  {
   "cell_type": "markdown",
   "metadata": {},
   "source": [
    "**Results using Ensembles**"
   ]
  },
  {
   "cell_type": "markdown",
   "metadata": {},
   "source": [
    "| Description | Kaggle RMSE (Private) | Kaggle RMSE (Public) | Approx Rank (Public) |\n",
    "|----------------------|-----------------------|----------------------|----------------------|\n",
    "| Models 1 + 2 + 3 + 4 | 1.807 | 2.173 | ~19 |\n",
    "| Models 1 + 3 + 4 | 1.802 | 2.172 | ~19 |\n",
    "| Models 1 + 3 + 4 + 5 | 1.716 | 2.045 | ~12 |"
   ]
  },
  {
   "cell_type": "markdown",
   "metadata": {},
   "source": [
    "By using a weighted ensembling approach, we notice the ensemble consistently outperforms the individual models.This maybe true since the models used are of similar architectures. It would be interesting to see an ensemble of deep architectures (over 5 layers) and shallow ones ( like 2 to 3 layers) perform better than the individual models."
   ]
  },
  {
   "cell_type": "markdown",
   "metadata": {},
   "source": [
    "## VI. Conclusion"
   ]
  },
  {
   "cell_type": "markdown",
   "metadata": {
    "collapsed": true
   },
   "source": [
    "We have tried many different models and parameter combinations. Starting with proven architectures gave us the ability to make rapid progress and explore the parameter space early on. This led to a deeper understanding of the problem which in turn led to an investigation of architectural and component-level modifications that ultimately led to a considerable increase in detection performance over the baseline. Along the way, we experienced the efficiency of using pre-trained weights to initialize subsequent models, as well as the power of ensembles. No model performed on its own better then the result of including it in an ensemble. More parameters and more complex models does not necessarily lead to a better model, but more models does seem to improve on fewer (to what extent was not thoroughly explored). "
   ]
  }
 ],
 "metadata": {
  "anaconda-cloud": {},
  "kernelspec": {
   "display_name": "Python 2",
   "language": "python",
   "name": "python2"
  },
  "language_info": {
   "codemirror_mode": {
    "name": "ipython",
    "version": 2
   },
   "file_extension": ".py",
   "mimetype": "text/x-python",
   "name": "python",
   "nbconvert_exporter": "python",
   "pygments_lexer": "ipython2",
   "version": "2.7.12"
  }
 },
 "nbformat": 4,
 "nbformat_minor": 2
}
